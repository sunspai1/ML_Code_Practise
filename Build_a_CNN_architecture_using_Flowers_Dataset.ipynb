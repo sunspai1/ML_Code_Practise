{
  "nbformat": 4,
  "nbformat_minor": 0,
  "metadata": {
    "colab": {
      "name": "Build a CNN architecture using Flowers Dataset.ipynb",
      "provenance": [],
      "authorship_tag": "ABX9TyP34geOsGFHKLrKIJenKV+f",
      "include_colab_link": true
    },
    "kernelspec": {
      "name": "python3",
      "display_name": "Python 3"
    },
    "language_info": {
      "name": "python"
    },
    "accelerator": "GPU"
  },
  "cells": [
    {
      "cell_type": "markdown",
      "metadata": {
        "id": "view-in-github",
        "colab_type": "text"
      },
      "source": [
        "<a href=\"https://colab.research.google.com/github/sunspai1/ML_Code_Practise/blob/main/Build_a_CNN_architecture_using_Flowers_Dataset.ipynb\" target=\"_parent\"><img src=\"https://colab.research.google.com/assets/colab-badge.svg\" alt=\"Open In Colab\"/></a>"
      ]
    },
    {
      "cell_type": "code",
      "metadata": {
        "colab": {
          "base_uri": "https://localhost:8080/"
        },
        "id": "cF9XGyvGOxPm",
        "outputId": "f7ebcb60-90d8-4aba-a512-e1b255649704"
      },
      "source": [
        "from google.colab import drive\n",
        "drive.mount('/content/drive', force_remount=True)"
      ],
      "execution_count": 1,
      "outputs": [
        {
          "output_type": "stream",
          "text": [
            "Mounted at /content/drive\n"
          ],
          "name": "stdout"
        }
      ]
    },
    {
      "cell_type": "code",
      "metadata": {
        "id": "Ars6rbGHPFcg"
      },
      "source": [
        "images_path = \"/content/drive/MyDrive/flowers.zip\""
      ],
      "execution_count": 2,
      "outputs": []
    },
    {
      "cell_type": "code",
      "metadata": {
        "colab": {
          "base_uri": "https://localhost:8080/"
        },
        "id": "HAwaWr3QPOOl",
        "outputId": "c94686db-3db1-444d-bcf2-84346e94e1f7"
      },
      "source": [
        "!ls"
      ],
      "execution_count": 3,
      "outputs": [
        {
          "output_type": "stream",
          "text": [
            "drive  sample_data\n"
          ],
          "name": "stdout"
        }
      ]
    },
    {
      "cell_type": "code",
      "metadata": {
        "id": "PCnaK3XyaPvY",
        "colab": {
          "base_uri": "https://localhost:8080/"
        },
        "outputId": "992b598c-ee8b-47d0-e692-702d30bfed4a"
      },
      "source": [
        "from google.colab import drive\n",
        "drive.mount('/content/drive')"
      ],
      "execution_count": 4,
      "outputs": [
        {
          "output_type": "stream",
          "text": [
            "Drive already mounted at /content/drive; to attempt to forcibly remount, call drive.mount(\"/content/drive\", force_remount=True).\n"
          ],
          "name": "stdout"
        }
      ]
    },
    {
      "cell_type": "code",
      "metadata": {
        "id": "Lj_FuH9HPFfT"
      },
      "source": [
        "from zipfile import ZipFile\n",
        "with ZipFile(images_path, 'r') as zip:\n",
        "  zip.extractall()"
      ],
      "execution_count": 5,
      "outputs": []
    },
    {
      "cell_type": "code",
      "metadata": {
        "id": "mQ4JyELFPFh8"
      },
      "source": [
        "from tensorflow.keras.models import Sequential\n",
        "from tensorflow.keras.layers import Conv2D\n",
        "from tensorflow.keras.layers import MaxPooling2D\n",
        "from tensorflow.keras.layers import Flatten\n",
        "from tensorflow.keras.layers import Dense, Dropout\n",
        "from tensorflow.keras.optimizers import Adam"
      ],
      "execution_count": 6,
      "outputs": []
    },
    {
      "cell_type": "code",
      "metadata": {
        "colab": {
          "base_uri": "https://localhost:8080/"
        },
        "id": "Euf3ZVuFdVWu",
        "outputId": "2e69d169-2245-4d15-f58f-411ba496ed42"
      },
      "source": [
        "pip install split-folders"
      ],
      "execution_count": 7,
      "outputs": [
        {
          "output_type": "stream",
          "text": [
            "Collecting split-folders\n",
            "  Downloading split_folders-0.4.3-py3-none-any.whl (7.4 kB)\n",
            "Installing collected packages: split-folders\n",
            "Successfully installed split-folders-0.4.3\n"
          ],
          "name": "stdout"
        }
      ]
    },
    {
      "cell_type": "code",
      "metadata": {
        "colab": {
          "base_uri": "https://localhost:8080/"
        },
        "id": "IkpPaTO5c4DJ",
        "outputId": "4c31cf95-5d2b-4657-8cf7-b936737b412f"
      },
      "source": [
        "import splitfolders\n",
        "splitfolders.ratio('/content/flowers', output=\"output\", seed=1337, ratio=(.8, 0.1,0.1)) "
      ],
      "execution_count": 8,
      "outputs": [
        {
          "output_type": "stream",
          "text": [
            "Copying files: 4326 files [00:01, 3051.86 files/s]\n"
          ],
          "name": "stderr"
        }
      ]
    },
    {
      "cell_type": "code",
      "metadata": {
        "id": "vH0Ft1WmPFkj"
      },
      "source": [
        "# Initialising the CNN classifier\n",
        "classifier = Sequential()\n",
        "\n",
        "\n",
        "classifier.add(Conv2D(32, (3, 3), input_shape = (64, 64, 3), activation = 'relu', padding = 'same'))\n",
        "classifier.add(Conv2D(32, (3, 3), input_shape = (64, 64, 3), activation = 'relu', padding = 'same'))\n",
        "classifier.add(MaxPooling2D(pool_size = (2, 2)))\n",
        "\n",
        "classifier.add(Conv2D(64, (3, 3), activation = 'relu', padding = 'same'))\n",
        "classifier.add(Conv2D(64, (3, 3), activation = 'relu', padding = 'same'))\n",
        "classifier.add(MaxPooling2D(pool_size = (2, 2)))\n",
        "\n",
        "classifier.add(Conv2D(64, (3, 3), activation = 'relu', padding = 'same'))\n",
        "classifier.add(Conv2D(64, (3, 3), activation = 'relu', padding = 'same'))\n",
        "classifier.add(MaxPooling2D(pool_size = (2, 2)))\n",
        "\n",
        "\n",
        "classifier.add(Flatten())\n",
        "\n",
        "\n",
        "classifier.add(Dense(units = 512, activation = 'relu'))\n",
        "classifier.add(Dropout(0.5))\n",
        "classifier.add(Dense(units = 128, activation = 'relu'))\n",
        "\n",
        "# The final output layer with 5 neuron to predict the categorical classifcation\n",
        "classifier.add(Dense(units = 5, activation = 'softmax'))"
      ],
      "execution_count": 13,
      "outputs": []
    },
    {
      "cell_type": "code",
      "metadata": {
        "id": "fMHxXxK1PFnW",
        "colab": {
          "base_uri": "https://localhost:8080/"
        },
        "outputId": "0d8feaa3-0053-40bc-bb95-92c4a60a10ce"
      },
      "source": [
        "opt = Adam(lr=0.001, beta_1=0.9, beta_2=0.999, epsilon=None, decay=0.001, amsgrad=False)\n",
        "classifier.compile(optimizer = opt, loss = 'categorical_crossentropy', metrics = ['accuracy'])"
      ],
      "execution_count": 14,
      "outputs": [
        {
          "output_type": "stream",
          "text": [
            "/usr/local/lib/python3.7/dist-packages/tensorflow/python/keras/optimizer_v2/optimizer_v2.py:375: UserWarning: The `lr` argument is deprecated, use `learning_rate` instead.\n",
            "  \"The `lr` argument is deprecated, use `learning_rate` instead.\")\n"
          ],
          "name": "stderr"
        }
      ]
    },
    {
      "cell_type": "code",
      "metadata": {
        "id": "AEE9uc0bPFpv",
        "colab": {
          "base_uri": "https://localhost:8080/"
        },
        "outputId": "d9e35759-5fae-49c2-e465-bef60f9fc7b3"
      },
      "source": [
        "from tensorflow.keras.preprocessing.image import ImageDataGenerator\n",
        "\n",
        "train_datagen = ImageDataGenerator(rescale = 1./255,\n",
        "                                   shear_range = 0.2,\n",
        "                                   zoom_range = 0.2,\n",
        "                                   horizontal_flip = True)\n",
        "\n",
        "\n",
        "test_datagen = ImageDataGenerator(rescale = 1./255)\n",
        "\n",
        "\n",
        "training_set = train_datagen.flow_from_directory('/content/output/train',\n",
        "                                                 target_size = (64, 64),\n",
        "                                                 batch_size = 32,\n",
        "                                                 class_mode = 'categorical')\n",
        "\n",
        "\n",
        "validation_set = test_datagen.flow_from_directory('/content/output/val',\n",
        "                                            target_size = (64, 64),\n",
        "                                            batch_size = 32,\n",
        "                                            class_mode = 'categorical')\n",
        "\n",
        "\n",
        "\n"
      ],
      "execution_count": 15,
      "outputs": [
        {
          "output_type": "stream",
          "text": [
            "Found 3457 images belonging to 5 classes.\n",
            "Found 430 images belonging to 5 classes.\n"
          ],
          "name": "stdout"
        }
      ]
    },
    {
      "cell_type": "code",
      "metadata": {
        "colab": {
          "base_uri": "https://localhost:8080/"
        },
        "id": "49jwqUQfeGsJ",
        "outputId": "f5b1cf0a-2826-4fcb-e301-470cbe49c660"
      },
      "source": [
        "model = classifier.fit_generator(training_set,\n",
        "                         \n",
        "                         epochs = 100,\n",
        "                         validation_data = validation_set,    \n",
        "                         validation_steps = 2000)\n"
      ],
      "execution_count": 16,
      "outputs": [
        {
          "output_type": "stream",
          "text": [
            "/usr/local/lib/python3.7/dist-packages/tensorflow/python/keras/engine/training.py:1940: UserWarning: `Model.fit_generator` is deprecated and will be removed in a future version. Please use `Model.fit`, which supports generators.\n",
            "  warnings.warn('`Model.fit_generator` is deprecated and '\n"
          ],
          "name": "stderr"
        },
        {
          "output_type": "stream",
          "text": [
            "Epoch 1/100\n",
            "109/109 [==============================] - ETA: 0s - loss: 1.4062 - accuracy: 0.3656WARNING:tensorflow:Your input ran out of data; interrupting training. Make sure that your dataset or generator can generate at least `steps_per_epoch * epochs` batches (in this case, 2000 batches). You may need to use the repeat() function when building your dataset.\n",
            "109/109 [==============================] - 17s 145ms/step - loss: 1.4062 - accuracy: 0.3656 - val_loss: 1.2124 - val_accuracy: 0.4279\n",
            "Epoch 2/100\n",
            "109/109 [==============================] - 14s 130ms/step - loss: 1.2332 - accuracy: 0.4620\n",
            "Epoch 3/100\n",
            "109/109 [==============================] - 14s 130ms/step - loss: 1.1412 - accuracy: 0.5221\n",
            "Epoch 4/100\n",
            "109/109 [==============================] - 15s 135ms/step - loss: 1.0716 - accuracy: 0.5820\n",
            "Epoch 5/100\n",
            "109/109 [==============================] - 15s 135ms/step - loss: 0.9850 - accuracy: 0.6240\n",
            "Epoch 6/100\n",
            "109/109 [==============================] - 15s 135ms/step - loss: 0.9059 - accuracy: 0.6575\n",
            "Epoch 7/100\n",
            "109/109 [==============================] - 15s 135ms/step - loss: 0.8901 - accuracy: 0.6650\n",
            "Epoch 8/100\n",
            "109/109 [==============================] - 14s 132ms/step - loss: 0.8033 - accuracy: 0.7012\n",
            "Epoch 9/100\n",
            "109/109 [==============================] - 15s 133ms/step - loss: 0.7912 - accuracy: 0.7058\n",
            "Epoch 10/100\n",
            "109/109 [==============================] - 14s 131ms/step - loss: 0.8242 - accuracy: 0.6847\n",
            "Epoch 11/100\n",
            "109/109 [==============================] - 15s 134ms/step - loss: 0.7439 - accuracy: 0.7151\n",
            "Epoch 12/100\n",
            "109/109 [==============================] - 14s 130ms/step - loss: 0.6972 - accuracy: 0.7405\n",
            "Epoch 13/100\n",
            "109/109 [==============================] - 14s 131ms/step - loss: 0.6785 - accuracy: 0.7423\n",
            "Epoch 14/100\n",
            "109/109 [==============================] - 14s 130ms/step - loss: 0.6515 - accuracy: 0.7533\n",
            "Epoch 15/100\n",
            "109/109 [==============================] - 15s 134ms/step - loss: 0.6542 - accuracy: 0.7593\n",
            "Epoch 16/100\n",
            "109/109 [==============================] - 14s 133ms/step - loss: 0.6133 - accuracy: 0.7697\n",
            "Epoch 17/100\n",
            "109/109 [==============================] - 14s 131ms/step - loss: 0.5970 - accuracy: 0.7802\n",
            "Epoch 18/100\n",
            "109/109 [==============================] - 14s 130ms/step - loss: 0.5647 - accuracy: 0.7842\n",
            "Epoch 19/100\n",
            "109/109 [==============================] - 14s 131ms/step - loss: 0.5681 - accuracy: 0.7871\n",
            "Epoch 20/100\n",
            "109/109 [==============================] - 15s 134ms/step - loss: 0.5301 - accuracy: 0.8053\n",
            "Epoch 21/100\n",
            "109/109 [==============================] - 14s 131ms/step - loss: 0.4958 - accuracy: 0.8120\n",
            "Epoch 22/100\n",
            "109/109 [==============================] - 14s 132ms/step - loss: 0.4732 - accuracy: 0.8256\n",
            "Epoch 23/100\n",
            "109/109 [==============================] - 14s 130ms/step - loss: 0.4685 - accuracy: 0.8273\n",
            "Epoch 24/100\n",
            "109/109 [==============================] - 14s 132ms/step - loss: 0.4480 - accuracy: 0.8380\n",
            "Epoch 25/100\n",
            "109/109 [==============================] - 15s 134ms/step - loss: 0.4249 - accuracy: 0.8476\n",
            "Epoch 26/100\n",
            "109/109 [==============================] - 14s 131ms/step - loss: 0.4148 - accuracy: 0.8519\n",
            "Epoch 27/100\n",
            "109/109 [==============================] - 15s 135ms/step - loss: 0.4051 - accuracy: 0.8484\n",
            "Epoch 28/100\n",
            "109/109 [==============================] - 14s 132ms/step - loss: 0.3979 - accuracy: 0.8533\n",
            "Epoch 29/100\n",
            "109/109 [==============================] - 15s 136ms/step - loss: 0.3718 - accuracy: 0.8623\n",
            "Epoch 30/100\n",
            "109/109 [==============================] - 15s 133ms/step - loss: 0.3580 - accuracy: 0.8693\n",
            "Epoch 31/100\n",
            "109/109 [==============================] - 15s 135ms/step - loss: 0.3544 - accuracy: 0.8716\n",
            "Epoch 32/100\n",
            "109/109 [==============================] - 15s 133ms/step - loss: 0.3305 - accuracy: 0.8797\n",
            "Epoch 33/100\n",
            "109/109 [==============================] - 15s 135ms/step - loss: 0.3112 - accuracy: 0.8831\n",
            "Epoch 34/100\n",
            "109/109 [==============================] - 15s 134ms/step - loss: 0.2869 - accuracy: 0.8909\n",
            "Epoch 35/100\n",
            "109/109 [==============================] - 14s 131ms/step - loss: 0.2811 - accuracy: 0.8990\n",
            "Epoch 36/100\n",
            "109/109 [==============================] - 15s 135ms/step - loss: 0.2662 - accuracy: 0.9008\n",
            "Epoch 37/100\n",
            "109/109 [==============================] - 14s 131ms/step - loss: 0.2706 - accuracy: 0.8982\n",
            "Epoch 38/100\n",
            "109/109 [==============================] - 14s 132ms/step - loss: 0.2441 - accuracy: 0.9150\n",
            "Epoch 39/100\n",
            "109/109 [==============================] - 14s 131ms/step - loss: 0.2502 - accuracy: 0.9097\n",
            "Epoch 40/100\n",
            "109/109 [==============================] - 15s 134ms/step - loss: 0.2286 - accuracy: 0.9138\n",
            "Epoch 41/100\n",
            "109/109 [==============================] - 15s 135ms/step - loss: 0.2239 - accuracy: 0.9225\n",
            "Epoch 42/100\n",
            "109/109 [==============================] - 14s 132ms/step - loss: 0.2193 - accuracy: 0.9187\n",
            "Epoch 43/100\n",
            "109/109 [==============================] - 14s 131ms/step - loss: 0.1945 - accuracy: 0.9286\n",
            "Epoch 44/100\n",
            "109/109 [==============================] - 14s 131ms/step - loss: 0.2077 - accuracy: 0.9251\n",
            "Epoch 45/100\n",
            "109/109 [==============================] - 15s 135ms/step - loss: 0.1915 - accuracy: 0.9317\n",
            "Epoch 46/100\n",
            "109/109 [==============================] - 14s 132ms/step - loss: 0.1987 - accuracy: 0.9320\n",
            "Epoch 47/100\n",
            "109/109 [==============================] - 15s 133ms/step - loss: 0.1798 - accuracy: 0.9372\n",
            "Epoch 48/100\n",
            "109/109 [==============================] - 14s 131ms/step - loss: 0.1574 - accuracy: 0.9471\n",
            "Epoch 49/100\n",
            "109/109 [==============================] - 15s 133ms/step - loss: 0.1583 - accuracy: 0.9401\n",
            "Epoch 50/100\n",
            "109/109 [==============================] - 15s 133ms/step - loss: 0.1674 - accuracy: 0.9401\n",
            "Epoch 51/100\n",
            "109/109 [==============================] - 15s 133ms/step - loss: 0.1501 - accuracy: 0.9465\n",
            "Epoch 52/100\n",
            "109/109 [==============================] - 14s 132ms/step - loss: 0.1556 - accuracy: 0.9450\n",
            "Epoch 53/100\n",
            "109/109 [==============================] - 14s 132ms/step - loss: 0.1502 - accuracy: 0.9497\n",
            "Epoch 54/100\n",
            "109/109 [==============================] - 15s 133ms/step - loss: 0.1383 - accuracy: 0.9534\n",
            "Epoch 55/100\n",
            "109/109 [==============================] - 14s 131ms/step - loss: 0.1400 - accuracy: 0.9549\n",
            "Epoch 56/100\n",
            "109/109 [==============================] - 15s 135ms/step - loss: 0.1173 - accuracy: 0.9595\n",
            "Epoch 57/100\n",
            "109/109 [==============================] - 14s 131ms/step - loss: 0.1128 - accuracy: 0.9621\n",
            "Epoch 58/100\n",
            "109/109 [==============================] - 14s 132ms/step - loss: 0.1237 - accuracy: 0.9604\n",
            "Epoch 59/100\n",
            "109/109 [==============================] - 14s 131ms/step - loss: 0.1230 - accuracy: 0.9609\n",
            "Epoch 60/100\n",
            "109/109 [==============================] - 15s 134ms/step - loss: 0.1455 - accuracy: 0.9468\n",
            "Epoch 61/100\n",
            "109/109 [==============================] - 15s 134ms/step - loss: 0.1208 - accuracy: 0.9609\n",
            "Epoch 62/100\n",
            "109/109 [==============================] - 14s 132ms/step - loss: 0.0927 - accuracy: 0.9719\n",
            "Epoch 63/100\n",
            "109/109 [==============================] - 14s 130ms/step - loss: 0.1089 - accuracy: 0.9644\n",
            "Epoch 64/100\n",
            "109/109 [==============================] - 14s 131ms/step - loss: 0.0997 - accuracy: 0.9647\n",
            "Epoch 65/100\n",
            "109/109 [==============================] - 14s 133ms/step - loss: 0.1016 - accuracy: 0.9667\n",
            "Epoch 66/100\n",
            "109/109 [==============================] - 14s 129ms/step - loss: 0.0970 - accuracy: 0.9664\n",
            "Epoch 67/100\n",
            "109/109 [==============================] - 14s 133ms/step - loss: 0.0885 - accuracy: 0.9690\n",
            "Epoch 68/100\n",
            "109/109 [==============================] - 14s 131ms/step - loss: 0.0914 - accuracy: 0.9676\n",
            "Epoch 69/100\n",
            "109/109 [==============================] - 15s 135ms/step - loss: 0.1110 - accuracy: 0.9636\n",
            "Epoch 70/100\n",
            "109/109 [==============================] - 14s 132ms/step - loss: 0.0858 - accuracy: 0.9690\n",
            "Epoch 71/100\n",
            "109/109 [==============================] - 15s 136ms/step - loss: 0.1189 - accuracy: 0.9612\n",
            "Epoch 72/100\n",
            "109/109 [==============================] - 15s 134ms/step - loss: 0.0757 - accuracy: 0.9757\n",
            "Epoch 73/100\n",
            "109/109 [==============================] - 15s 136ms/step - loss: 0.0921 - accuracy: 0.9676\n",
            "Epoch 74/100\n",
            "109/109 [==============================] - 15s 135ms/step - loss: 0.0823 - accuracy: 0.9714\n",
            "Epoch 75/100\n",
            "109/109 [==============================] - 14s 132ms/step - loss: 0.0826 - accuracy: 0.9719\n",
            "Epoch 76/100\n",
            "109/109 [==============================] - 15s 133ms/step - loss: 0.0810 - accuracy: 0.9740\n",
            "Epoch 77/100\n",
            "109/109 [==============================] - 14s 132ms/step - loss: 0.0783 - accuracy: 0.9717\n",
            "Epoch 78/100\n",
            "109/109 [==============================] - 15s 134ms/step - loss: 0.0752 - accuracy: 0.9725\n",
            "Epoch 79/100\n",
            "109/109 [==============================] - 15s 134ms/step - loss: 0.0724 - accuracy: 0.9748\n",
            "Epoch 80/100\n",
            "109/109 [==============================] - 15s 133ms/step - loss: 0.0703 - accuracy: 0.9740\n",
            "Epoch 81/100\n",
            "109/109 [==============================] - 15s 135ms/step - loss: 0.0699 - accuracy: 0.9766\n",
            "Epoch 82/100\n",
            "109/109 [==============================] - 15s 133ms/step - loss: 0.0598 - accuracy: 0.9818\n",
            "Epoch 83/100\n",
            "109/109 [==============================] - 14s 132ms/step - loss: 0.0590 - accuracy: 0.9806\n",
            "Epoch 84/100\n",
            "109/109 [==============================] - 14s 130ms/step - loss: 0.0677 - accuracy: 0.9771\n",
            "Epoch 85/100\n",
            "109/109 [==============================] - 15s 134ms/step - loss: 0.0595 - accuracy: 0.9783\n",
            "Epoch 86/100\n",
            "109/109 [==============================] - 14s 131ms/step - loss: 0.0561 - accuracy: 0.9829\n",
            "Epoch 87/100\n",
            "109/109 [==============================] - 14s 132ms/step - loss: 0.0497 - accuracy: 0.9821\n",
            "Epoch 88/100\n",
            "109/109 [==============================] - 14s 131ms/step - loss: 0.0537 - accuracy: 0.9826\n",
            "Epoch 89/100\n",
            "109/109 [==============================] - 15s 133ms/step - loss: 0.0487 - accuracy: 0.9838\n",
            "Epoch 90/100\n",
            "109/109 [==============================] - 15s 133ms/step - loss: 0.0639 - accuracy: 0.9803\n",
            "Epoch 91/100\n",
            "109/109 [==============================] - 14s 131ms/step - loss: 0.0550 - accuracy: 0.9838\n",
            "Epoch 92/100\n",
            "109/109 [==============================] - 14s 132ms/step - loss: 0.0535 - accuracy: 0.9809\n",
            "Epoch 93/100\n",
            "109/109 [==============================] - 14s 132ms/step - loss: 0.0599 - accuracy: 0.9783\n",
            "Epoch 94/100\n",
            "109/109 [==============================] - 15s 134ms/step - loss: 0.0536 - accuracy: 0.9829\n",
            "Epoch 95/100\n",
            "109/109 [==============================] - 14s 132ms/step - loss: 0.0507 - accuracy: 0.9800\n",
            "Epoch 96/100\n",
            "109/109 [==============================] - 14s 131ms/step - loss: 0.0451 - accuracy: 0.9864\n",
            "Epoch 97/100\n",
            "109/109 [==============================] - 14s 131ms/step - loss: 0.0375 - accuracy: 0.9887\n",
            "Epoch 98/100\n",
            "109/109 [==============================] - 14s 132ms/step - loss: 0.0384 - accuracy: 0.9861\n",
            "Epoch 99/100\n",
            "109/109 [==============================] - 15s 135ms/step - loss: 0.0606 - accuracy: 0.9809\n",
            "Epoch 100/100\n",
            "109/109 [==============================] - 14s 131ms/step - loss: 0.0405 - accuracy: 0.9879\n"
          ],
          "name": "stdout"
        }
      ]
    },
    {
      "cell_type": "code",
      "metadata": {
        "id": "MJmZjmFEwYXV"
      },
      "source": [
        "classifier.save('/content/flowers/classifier.h5')\n",
        "\n",
        "classifier.save_weights('/content/flowers/classifier_weights.h5')"
      ],
      "execution_count": 20,
      "outputs": []
    },
    {
      "cell_type": "code",
      "metadata": {
        "id": "HpfpI0KnPFs2",
        "colab": {
          "base_uri": "https://localhost:8080/"
        },
        "outputId": "3535a96b-8754-4e96-d6e7-08f8c81259af"
      },
      "source": [
        "!ls"
      ],
      "execution_count": 21,
      "outputs": [
        {
          "output_type": "stream",
          "text": [
            "drive  flowers\toutput\tsample_data\n"
          ],
          "name": "stdout"
        }
      ]
    },
    {
      "cell_type": "markdown",
      "metadata": {
        "id": "7737n-zk6Akk"
      },
      "source": [
        "## **Check Model Performance on Test Data**"
      ]
    },
    {
      "cell_type": "code",
      "metadata": {
        "colab": {
          "base_uri": "https://localhost:8080/"
        },
        "id": "pd7QHB0L2JZ6",
        "outputId": "844a5594-fbeb-4b9f-bf2e-5815e1541e07"
      },
      "source": [
        "# Re-initalizing the test data generator with shuffle=False to create the confusion matrix\n",
        "test_set = test_datagen.flow_from_directory('/content/output/test',\n",
        "                                            target_size = (64, 64),\n",
        "                                            batch_size = 32,\n",
        "                                            shuffle=False,\n",
        "                                            class_mode = 'categorical')\n",
        "\n",
        "# Predict the whole generator to get predictions\n",
        "Y_pred = classifier.predict_generator(test_set, int(500/32+1))\n",
        "\n",
        "# Find out the predictions classes with maximum probability\n",
        "y_pred = np.argmax(Y_pred, axis=1)\n",
        "\n",
        "# Utilities for confusion matrix\n",
        "from sklearn.metrics import classification_report, confusion_matrix\n",
        "\n",
        "# Printing the confusion matrix based on the actual data vs predicted data. \n",
        "print(confusion_matrix(test_set.classes, y_pred))\n",
        "\n",
        "# Printing the classification report\n",
        "print(classification_report(test_set.classes, y_pred, target_names=prediction_class))"
      ],
      "execution_count": 31,
      "outputs": [
        {
          "output_type": "stream",
          "text": [
            "Found 436 images belonging to 5 classes.\n"
          ],
          "name": "stdout"
        },
        {
          "output_type": "stream",
          "text": [
            "/usr/local/lib/python3.7/dist-packages/tensorflow/python/keras/engine/training.py:2001: UserWarning: `Model.predict_generator` is deprecated and will be removed in a future version. Please use `Model.predict`, which supports generators.\n",
            "  warnings.warn('`Model.predict_generator` is deprecated and '\n"
          ],
          "name": "stderr"
        },
        {
          "output_type": "stream",
          "text": [
            "WARNING:tensorflow:Your input ran out of data; interrupting training. Make sure that your dataset or generator can generate at least `steps_per_epoch * epochs` batches (in this case, 16 batches). You may need to use the repeat() function when building your dataset.\n",
            "[[62  7  4  2  3]\n",
            " [14 81  0 10  1]\n",
            " [ 8  7 43  4 17]\n",
            " [ 1  4  1 64  4]\n",
            " [ 6  8 13  4 68]]\n",
            "              precision    recall  f1-score   support\n",
            "\n",
            "       daisy       0.68      0.79      0.73        78\n",
            "   dandelion       0.76      0.76      0.76       106\n",
            "        rose       0.70      0.54      0.61        79\n",
            "   sunflower       0.76      0.86      0.81        74\n",
            "       tulip       0.73      0.69      0.71        99\n",
            "\n",
            "    accuracy                           0.73       436\n",
            "   macro avg       0.73      0.73      0.73       436\n",
            "weighted avg       0.73      0.73      0.73       436\n",
            "\n"
          ],
          "name": "stdout"
        }
      ]
    }
  ]
}