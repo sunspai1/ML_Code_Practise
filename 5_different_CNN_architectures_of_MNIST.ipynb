{
  "nbformat": 4,
  "nbformat_minor": 0,
  "metadata": {
    "colab": {
      "name": "5 different CNN architectures of MNIST.ipynb",
      "provenance": [],
      "collapsed_sections": [],
      "authorship_tag": "ABX9TyPJ+D+VfkpwBIU/03xIvi8O",
      "include_colab_link": true
    },
    "kernelspec": {
      "name": "python3",
      "display_name": "Python 3"
    },
    "language_info": {
      "name": "python"
    }
  },
  "cells": [
    {
      "cell_type": "markdown",
      "metadata": {
        "id": "view-in-github",
        "colab_type": "text"
      },
      "source": [
        "<a href=\"https://colab.research.google.com/github/sunspai1/ML_Code_Practise/blob/main/5_different_CNN_architectures_of_MNIST.ipynb\" target=\"_parent\"><img src=\"https://colab.research.google.com/assets/colab-badge.svg\" alt=\"Open In Colab\"/></a>"
      ]
    },
    {
      "cell_type": "code",
      "metadata": {
        "id": "Fge76HE9wiIN",
        "colab": {
          "base_uri": "https://localhost:8080/"
        },
        "outputId": "70a5b51b-c113-4861-d621-95791a8cb86b"
      },
      "source": [
        "# Loading the mnist dataset\n",
        "from keras.datasets import mnist\n",
        "(trainX, trainY), (testX, testY) = mnist.load_data()\n",
        "# reshape dataset to have a single channel\n",
        "trainX = trainX.reshape((trainX.shape[0], 28, 28, 1))\n",
        "testX = testX.reshape((testX.shape[0], 28, 28, 1))"
      ],
      "execution_count": 1,
      "outputs": [
        {
          "output_type": "stream",
          "text": [
            "Downloading data from https://storage.googleapis.com/tensorflow/tf-keras-datasets/mnist.npz\n",
            "11493376/11490434 [==============================] - 0s 0us/step\n",
            "11501568/11490434 [==============================] - 0s 0us/step\n"
          ],
          "name": "stdout"
        }
      ]
    },
    {
      "cell_type": "code",
      "metadata": {
        "id": "ggQcJDZoHaYf"
      },
      "source": [
        "import tensorflow\n",
        "from tensorflow.keras.utils import to_categorical\n",
        "# one hot encode target values\n",
        "trainY =  tensorflow.keras.utils.to_categorical(trainY, num_classes=None, dtype='float32')\n",
        "testY =  tensorflow.keras.utils.to_categorical(testY, num_classes=None, dtype='float32')"
      ],
      "execution_count": 2,
      "outputs": []
    },
    {
      "cell_type": "code",
      "metadata": {
        "id": "zClmi7AYqqw0"
      },
      "source": [
        "#Normalize the train & test data\n",
        "train_norm = trainX.astype('float32')/255.0\n",
        "test_norm = testX.astype('float32')/255.0"
      ],
      "execution_count": 3,
      "outputs": []
    },
    {
      "cell_type": "code",
      "metadata": {
        "colab": {
          "base_uri": "https://localhost:8080/"
        },
        "id": "vAWZnk7Ww6qe",
        "outputId": "da01208d-0ef5-4402-f45e-01325101b941"
      },
      "source": [
        "test_norm.shape"
      ],
      "execution_count": 4,
      "outputs": [
        {
          "output_type": "execute_result",
          "data": {
            "text/plain": [
              "(10000, 28, 28, 1)"
            ]
          },
          "metadata": {
            "tags": []
          },
          "execution_count": 4
        }
      ]
    },
    {
      "cell_type": "code",
      "metadata": {
        "id": "Y9STLKSxwoHG"
      },
      "source": [
        "# Split data into train & validation set\n",
        "(train_norm, x_valid) = train_norm[10000:], train_norm[:10000]\n",
        "(trainY, y_valid) = trainY[10000:], trainY[:10000]"
      ],
      "execution_count": 5,
      "outputs": []
    },
    {
      "cell_type": "markdown",
      "metadata": {
        "id": "NUz24IdDtATO"
      },
      "source": [
        "**Model** **1**"
      ]
    },
    {
      "cell_type": "code",
      "metadata": {
        "id": "FZfhlpoNHad0"
      },
      "source": [
        "from keras.models import Sequential\n",
        "from keras.layers import Conv2D, MaxPool2D, Flatten, Dense, Dropout"
      ],
      "execution_count": 6,
      "outputs": []
    },
    {
      "cell_type": "code",
      "metadata": {
        "colab": {
          "base_uri": "https://localhost:8080/"
        },
        "id": "-Z9kmzNKtqV5",
        "outputId": "8fa63039-6c4d-42fc-f184-1d47c928ba09"
      },
      "source": [
        "model1 = Sequential()\n",
        "model1.add(Conv2D(filters=32, kernel_size=3, padding='same',activation='relu', input_shape=(28,28,1)))\n",
        "model1.add(MaxPool2D(pool_size=2))\n",
        "model1.add(Conv2D(filters=32, kernel_size=3, padding='same',activation='relu'))\n",
        "model1.add(MaxPool2D(pool_size=2))\n",
        "model1.add(Dropout(0.3))\n",
        "model1.add(Flatten())\n",
        "model1.add(Dense(100,activation='relu'))\n",
        "model1.add(Dropout(0.4))\n",
        "model1.add(Dense(10,activation='softmax'))\n",
        "model1.summary()\n"
      ],
      "execution_count": 7,
      "outputs": [
        {
          "output_type": "stream",
          "text": [
            "Model: \"sequential\"\n",
            "_________________________________________________________________\n",
            "Layer (type)                 Output Shape              Param #   \n",
            "=================================================================\n",
            "conv2d (Conv2D)              (None, 28, 28, 32)        320       \n",
            "_________________________________________________________________\n",
            "max_pooling2d (MaxPooling2D) (None, 14, 14, 32)        0         \n",
            "_________________________________________________________________\n",
            "conv2d_1 (Conv2D)            (None, 14, 14, 32)        9248      \n",
            "_________________________________________________________________\n",
            "max_pooling2d_1 (MaxPooling2 (None, 7, 7, 32)          0         \n",
            "_________________________________________________________________\n",
            "dropout (Dropout)            (None, 7, 7, 32)          0         \n",
            "_________________________________________________________________\n",
            "flatten (Flatten)            (None, 1568)              0         \n",
            "_________________________________________________________________\n",
            "dense (Dense)                (None, 100)               156900    \n",
            "_________________________________________________________________\n",
            "dropout_1 (Dropout)          (None, 100)               0         \n",
            "_________________________________________________________________\n",
            "dense_1 (Dense)              (None, 10)                1010      \n",
            "=================================================================\n",
            "Total params: 167,478\n",
            "Trainable params: 167,478\n",
            "Non-trainable params: 0\n",
            "_________________________________________________________________\n"
          ],
          "name": "stdout"
        }
      ]
    },
    {
      "cell_type": "code",
      "metadata": {
        "colab": {
          "base_uri": "https://localhost:8080/"
        },
        "id": "LhEGWfnnHag-",
        "outputId": "5317385f-a7e1-4e5f-bddf-a0270f55d9bd"
      },
      "source": [
        "model1.compile(loss='categorical_crossentropy',optimizer='rmsprop',metrics=['accuracy'])\n",
        "hist = model1.fit(train_norm,trainY,batch_size=32,epochs=10,validation_data=(x_valid,y_valid),verbose=2)"
      ],
      "execution_count": 8,
      "outputs": [
        {
          "output_type": "stream",
          "text": [
            "Epoch 1/10\n",
            "1563/1563 - 52s - loss: 0.2411 - accuracy: 0.9260 - val_loss: 0.0798 - val_accuracy: 0.9770\n",
            "Epoch 2/10\n",
            "1563/1563 - 7s - loss: 0.0941 - accuracy: 0.9714 - val_loss: 0.0591 - val_accuracy: 0.9833\n",
            "Epoch 3/10\n",
            "1563/1563 - 7s - loss: 0.0793 - accuracy: 0.9764 - val_loss: 0.0768 - val_accuracy: 0.9790\n",
            "Epoch 4/10\n",
            "1563/1563 - 8s - loss: 0.0710 - accuracy: 0.9791 - val_loss: 0.0547 - val_accuracy: 0.9839\n",
            "Epoch 5/10\n",
            "1563/1563 - 8s - loss: 0.0674 - accuracy: 0.9809 - val_loss: 0.0878 - val_accuracy: 0.9771\n",
            "Epoch 6/10\n",
            "1563/1563 - 8s - loss: 0.0653 - accuracy: 0.9817 - val_loss: 0.0539 - val_accuracy: 0.9854\n",
            "Epoch 7/10\n",
            "1563/1563 - 7s - loss: 0.0676 - accuracy: 0.9808 - val_loss: 0.0633 - val_accuracy: 0.9832\n",
            "Epoch 8/10\n",
            "1563/1563 - 7s - loss: 0.0655 - accuracy: 0.9809 - val_loss: 0.0859 - val_accuracy: 0.9776\n",
            "Epoch 9/10\n",
            "1563/1563 - 7s - loss: 0.0663 - accuracy: 0.9815 - val_loss: 0.0637 - val_accuracy: 0.9828\n",
            "Epoch 10/10\n",
            "1563/1563 - 7s - loss: 0.0674 - accuracy: 0.9817 - val_loss: 0.0614 - val_accuracy: 0.9853\n"
          ],
          "name": "stdout"
        }
      ]
    },
    {
      "cell_type": "code",
      "metadata": {
        "colab": {
          "base_uri": "https://localhost:8080/"
        },
        "id": "iKEveliiHaj1",
        "outputId": "a1751051-112f-4107-c38f-8db495ef7ddd"
      },
      "source": [
        "score_model1 = model1.evaluate(testX,testY,verbose=0)\n",
        "print('\\n', \"Test Accuracy of model1 =\", score_model1[1])"
      ],
      "execution_count": 11,
      "outputs": [
        {
          "output_type": "stream",
          "text": [
            "\n",
            " Test Accuracy of model1 = 0.7401000261306763\n"
          ],
          "name": "stdout"
        }
      ]
    },
    {
      "cell_type": "markdown",
      "metadata": {
        "id": "S0sfs89Oboxt"
      },
      "source": [
        "# **Accuracy of Model 1 is 74%**"
      ]
    },
    {
      "cell_type": "markdown",
      "metadata": {
        "id": "bEKg29dodzeE"
      },
      "source": [
        "**Model 2**"
      ]
    },
    {
      "cell_type": "code",
      "metadata": {
        "colab": {
          "base_uri": "https://localhost:8080/"
        },
        "id": "xopXY5nKd1aG",
        "outputId": "a685461c-5056-4f4b-f657-3ecd1c0109d4"
      },
      "source": [
        "model2 = Sequential()\n",
        "model2.add(Conv2D(filters=32, kernel_size=3, padding='same',activation='sigmoid', input_shape=(28,28,1)))\n",
        "model2.add(MaxPool2D(pool_size=2))\n",
        "model2.add(Conv2D(filters=64, kernel_size=3, padding='same',activation='tanh'))\n",
        "model2.add(MaxPool2D(pool_size=2))\n",
        "model2.add(Conv2D(filters=64, kernel_size=3, padding='same',activation='tanh'))\n",
        "model2.add(MaxPool2D(pool_size=2))\n",
        "model2.add(Dropout(0.3))\n",
        "model2.add(Flatten())\n",
        "model2.add(Dense(100,activation='relu'))\n",
        "model2.add(Dropout(0.4))\n",
        "model2.add(Dense(10,activation='softmax'))\n",
        "model2.summary()"
      ],
      "execution_count": 12,
      "outputs": [
        {
          "output_type": "stream",
          "text": [
            "Model: \"sequential_1\"\n",
            "_________________________________________________________________\n",
            "Layer (type)                 Output Shape              Param #   \n",
            "=================================================================\n",
            "conv2d_2 (Conv2D)            (None, 28, 28, 32)        320       \n",
            "_________________________________________________________________\n",
            "max_pooling2d_2 (MaxPooling2 (None, 14, 14, 32)        0         \n",
            "_________________________________________________________________\n",
            "conv2d_3 (Conv2D)            (None, 14, 14, 64)        18496     \n",
            "_________________________________________________________________\n",
            "max_pooling2d_3 (MaxPooling2 (None, 7, 7, 64)          0         \n",
            "_________________________________________________________________\n",
            "conv2d_4 (Conv2D)            (None, 7, 7, 64)          36928     \n",
            "_________________________________________________________________\n",
            "max_pooling2d_4 (MaxPooling2 (None, 3, 3, 64)          0         \n",
            "_________________________________________________________________\n",
            "dropout_2 (Dropout)          (None, 3, 3, 64)          0         \n",
            "_________________________________________________________________\n",
            "flatten_1 (Flatten)          (None, 576)               0         \n",
            "_________________________________________________________________\n",
            "dense_2 (Dense)              (None, 100)               57700     \n",
            "_________________________________________________________________\n",
            "dropout_3 (Dropout)          (None, 100)               0         \n",
            "_________________________________________________________________\n",
            "dense_3 (Dense)              (None, 10)                1010      \n",
            "=================================================================\n",
            "Total params: 114,454\n",
            "Trainable params: 114,454\n",
            "Non-trainable params: 0\n",
            "_________________________________________________________________\n"
          ],
          "name": "stdout"
        }
      ]
    },
    {
      "cell_type": "code",
      "metadata": {
        "colab": {
          "base_uri": "https://localhost:8080/"
        },
        "id": "BHGXoALqbxBa",
        "outputId": "80d27356-e420-4904-ca0e-8b0ddae89e9d"
      },
      "source": [
        "model2.compile(loss='categorical_crossentropy',optimizer='rmsprop',metrics=['accuracy'])\n",
        "hist = model2.fit(train_norm,trainY,batch_size=32,epochs=10,validation_data=(x_valid,y_valid),verbose=2)"
      ],
      "execution_count": 13,
      "outputs": [
        {
          "output_type": "stream",
          "text": [
            "Epoch 1/10\n",
            "1563/1563 - 11s - loss: 2.3089 - accuracy: 0.1105 - val_loss: 2.3012 - val_accuracy: 0.1127\n",
            "Epoch 2/10\n",
            "1563/1563 - 8s - loss: 2.3028 - accuracy: 0.1120 - val_loss: 2.3006 - val_accuracy: 0.1127\n",
            "Epoch 3/10\n",
            "1563/1563 - 8s - loss: 2.3019 - accuracy: 0.1123 - val_loss: 2.3021 - val_accuracy: 0.1127\n",
            "Epoch 4/10\n",
            "1563/1563 - 8s - loss: 2.3020 - accuracy: 0.1122 - val_loss: 2.3007 - val_accuracy: 0.1127\n",
            "Epoch 5/10\n",
            "1563/1563 - 8s - loss: 2.3018 - accuracy: 0.1119 - val_loss: 2.3007 - val_accuracy: 0.1127\n",
            "Epoch 6/10\n",
            "1563/1563 - 8s - loss: 2.3016 - accuracy: 0.1122 - val_loss: 2.3008 - val_accuracy: 0.1127\n",
            "Epoch 7/10\n",
            "1563/1563 - 8s - loss: 1.6674 - accuracy: 0.3724 - val_loss: 0.1893 - val_accuracy: 0.9439\n",
            "Epoch 8/10\n",
            "1563/1563 - 9s - loss: 0.2294 - accuracy: 0.9330 - val_loss: 0.1053 - val_accuracy: 0.9662\n",
            "Epoch 9/10\n",
            "1563/1563 - 9s - loss: 0.1765 - accuracy: 0.9507 - val_loss: 0.1019 - val_accuracy: 0.9688\n",
            "Epoch 10/10\n",
            "1563/1563 - 8s - loss: 0.1522 - accuracy: 0.9591 - val_loss: 0.1039 - val_accuracy: 0.9702\n"
          ],
          "name": "stdout"
        }
      ]
    },
    {
      "cell_type": "code",
      "metadata": {
        "colab": {
          "base_uri": "https://localhost:8080/"
        },
        "id": "AnjMLuJWHam4",
        "outputId": "1acee9c5-fe55-4951-ab46-1a21ed3543c7"
      },
      "source": [
        "score_model2 = model2.evaluate(testX,testY,verbose=0)\n",
        "print('\\n', \"Test Accuracy of model2 =\", score_model2[1])"
      ],
      "execution_count": 15,
      "outputs": [
        {
          "output_type": "stream",
          "text": [
            "\n",
            " Test Accuracy of model2 = 0.8838000297546387\n"
          ],
          "name": "stdout"
        }
      ]
    },
    {
      "cell_type": "markdown",
      "metadata": {
        "id": "KaJAopoofTeH"
      },
      "source": [
        "# **Test Accuracy for Model 2 is 88%**"
      ]
    },
    {
      "cell_type": "markdown",
      "metadata": {
        "id": "8dY9LUiplqwJ"
      },
      "source": [
        "**Model 3**"
      ]
    },
    {
      "cell_type": "code",
      "metadata": {
        "colab": {
          "base_uri": "https://localhost:8080/"
        },
        "id": "ZptaAvCMfgMM",
        "outputId": "afeb611f-8d4f-4782-805f-c8dec54d42a9"
      },
      "source": [
        "model3 = Sequential()\n",
        "model3.add(Conv2D(filters=32, kernel_size=3, padding='same',activation='relu', input_shape=(28,28,1)))\n",
        "model3.add(MaxPool2D(pool_size=2))\n",
        "model3.add(Conv2D(filters=64, kernel_size=3, padding='same',activation='relu'))\n",
        "model3.add(MaxPool2D(pool_size=2))\n",
        "model3.add(Conv2D(filters=64, kernel_size=3, padding='same',activation='relu'))\n",
        "model3.add(MaxPool2D(pool_size=2))\n",
        "model3.add(Dropout(0.3))\n",
        "model3.add(Flatten())\n",
        "model3.add(Dense(100,activation='relu'))\n",
        "model3.add(Dropout(0.4))\n",
        "model3.add(Dense(10,activation='softmax'))\n",
        "model3.summary()"
      ],
      "execution_count": 17,
      "outputs": [
        {
          "output_type": "stream",
          "text": [
            "Model: \"sequential_3\"\n",
            "_________________________________________________________________\n",
            "Layer (type)                 Output Shape              Param #   \n",
            "=================================================================\n",
            "conv2d_8 (Conv2D)            (None, 28, 28, 32)        320       \n",
            "_________________________________________________________________\n",
            "max_pooling2d_8 (MaxPooling2 (None, 14, 14, 32)        0         \n",
            "_________________________________________________________________\n",
            "conv2d_9 (Conv2D)            (None, 14, 14, 64)        18496     \n",
            "_________________________________________________________________\n",
            "max_pooling2d_9 (MaxPooling2 (None, 7, 7, 64)          0         \n",
            "_________________________________________________________________\n",
            "conv2d_10 (Conv2D)           (None, 7, 7, 64)          36928     \n",
            "_________________________________________________________________\n",
            "max_pooling2d_10 (MaxPooling (None, 3, 3, 64)          0         \n",
            "_________________________________________________________________\n",
            "dropout_6 (Dropout)          (None, 3, 3, 64)          0         \n",
            "_________________________________________________________________\n",
            "flatten_3 (Flatten)          (None, 576)               0         \n",
            "_________________________________________________________________\n",
            "dense_6 (Dense)              (None, 100)               57700     \n",
            "_________________________________________________________________\n",
            "dropout_7 (Dropout)          (None, 100)               0         \n",
            "_________________________________________________________________\n",
            "dense_7 (Dense)              (None, 10)                1010      \n",
            "=================================================================\n",
            "Total params: 114,454\n",
            "Trainable params: 114,454\n",
            "Non-trainable params: 0\n",
            "_________________________________________________________________\n"
          ],
          "name": "stdout"
        }
      ]
    },
    {
      "cell_type": "code",
      "metadata": {
        "colab": {
          "base_uri": "https://localhost:8080/"
        },
        "id": "coG3Q4T-fwII",
        "outputId": "d355d7bc-417b-45be-b211-b31b0b541b55"
      },
      "source": [
        "model3.compile(loss='categorical_crossentropy',optimizer='adam',metrics=['accuracy'])\n",
        "hist = model3.fit(train_norm,trainY,batch_size=32,epochs=10,validation_data=(x_valid,y_valid),verbose=2)"
      ],
      "execution_count": 18,
      "outputs": [
        {
          "output_type": "stream",
          "text": [
            "Epoch 1/10\n",
            "1563/1563 - 9s - loss: 0.2629 - accuracy: 0.9168 - val_loss: 0.0744 - val_accuracy: 0.9779\n",
            "Epoch 2/10\n",
            "1563/1563 - 7s - loss: 0.0874 - accuracy: 0.9735 - val_loss: 0.0452 - val_accuracy: 0.9877\n",
            "Epoch 3/10\n",
            "1563/1563 - 7s - loss: 0.0637 - accuracy: 0.9801 - val_loss: 0.0413 - val_accuracy: 0.9883\n",
            "Epoch 4/10\n",
            "1563/1563 - 7s - loss: 0.0558 - accuracy: 0.9839 - val_loss: 0.0358 - val_accuracy: 0.9893\n",
            "Epoch 5/10\n",
            "1563/1563 - 8s - loss: 0.0459 - accuracy: 0.9861 - val_loss: 0.0371 - val_accuracy: 0.9886\n",
            "Epoch 6/10\n",
            "1563/1563 - 7s - loss: 0.0405 - accuracy: 0.9876 - val_loss: 0.0385 - val_accuracy: 0.9895\n",
            "Epoch 7/10\n",
            "1563/1563 - 7s - loss: 0.0376 - accuracy: 0.9883 - val_loss: 0.0445 - val_accuracy: 0.9882\n",
            "Epoch 8/10\n",
            "1563/1563 - 7s - loss: 0.0313 - accuracy: 0.9902 - val_loss: 0.0392 - val_accuracy: 0.9894\n",
            "Epoch 9/10\n",
            "1563/1563 - 7s - loss: 0.0312 - accuracy: 0.9903 - val_loss: 0.0331 - val_accuracy: 0.9900\n",
            "Epoch 10/10\n",
            "1563/1563 - 7s - loss: 0.0291 - accuracy: 0.9913 - val_loss: 0.0312 - val_accuracy: 0.9918\n"
          ],
          "name": "stdout"
        }
      ]
    },
    {
      "cell_type": "code",
      "metadata": {
        "colab": {
          "base_uri": "https://localhost:8080/"
        },
        "id": "OAMKPScaHap2",
        "outputId": "a6da74c7-6df4-4978-b61f-12adf429f9a1"
      },
      "source": [
        "score_model3 = model3.evaluate(testX,testY,verbose=0)\n",
        "print('\\n', \"Test Accuracy of model2 =\", score_model3[1])"
      ],
      "execution_count": 19,
      "outputs": [
        {
          "output_type": "stream",
          "text": [
            "\n",
            " Test Accuracy of model2 = 0.9861999750137329\n"
          ],
          "name": "stdout"
        }
      ]
    },
    {
      "cell_type": "markdown",
      "metadata": {
        "id": "fKRGomuUgU3i"
      },
      "source": [
        "# **Test Accuracy for model 3 is 98%**"
      ]
    },
    {
      "cell_type": "markdown",
      "metadata": {
        "id": "Ow5G7LtXlz-o"
      },
      "source": [
        "**Model 4**"
      ]
    },
    {
      "cell_type": "code",
      "metadata": {
        "colab": {
          "base_uri": "https://localhost:8080/"
        },
        "id": "R2ZmFsXegae_",
        "outputId": "eb0cf912-6c7f-4840-cc30-8f1a124c1916"
      },
      "source": [
        "model4 = Sequential()\n",
        "model4.add(Conv2D(filters=32, kernel_size=3, padding='valid',activation='relu', input_shape=(28,28,1)))\n",
        "model4.add(MaxPool2D(pool_size=2))\n",
        "model4.add(Conv2D(filters=32, kernel_size=3, padding='valid',activation='relu'))\n",
        "model4.add(MaxPool2D(pool_size=2))\n",
        "model4.add(Conv2D(filters=32, kernel_size=3, padding='same',activation='relu'))\n",
        "model4.add(MaxPool2D(pool_size=2))\n",
        "model4.add(Conv2D(filters=64, kernel_size=3, padding='same',activation='relu'))\n",
        "model4.add(MaxPool2D(pool_size=2))\n",
        "model4.add(Dropout(0.3))\n",
        "model4.add(Flatten())\n",
        "model4.add(Dense(100,activation='relu'))\n",
        "model4.add(Dropout(0.4))\n",
        "model4.add(Dense(10,activation='softmax'))\n",
        "model4.summary()"
      ],
      "execution_count": 33,
      "outputs": [
        {
          "output_type": "stream",
          "text": [
            "Model: \"sequential_10\"\n",
            "_________________________________________________________________\n",
            "Layer (type)                 Output Shape              Param #   \n",
            "=================================================================\n",
            "conv2d_34 (Conv2D)           (None, 26, 26, 32)        320       \n",
            "_________________________________________________________________\n",
            "max_pooling2d_32 (MaxPooling (None, 13, 13, 32)        0         \n",
            "_________________________________________________________________\n",
            "conv2d_35 (Conv2D)           (None, 11, 11, 32)        9248      \n",
            "_________________________________________________________________\n",
            "max_pooling2d_33 (MaxPooling (None, 5, 5, 32)          0         \n",
            "_________________________________________________________________\n",
            "conv2d_36 (Conv2D)           (None, 5, 5, 32)          9248      \n",
            "_________________________________________________________________\n",
            "max_pooling2d_34 (MaxPooling (None, 2, 2, 32)          0         \n",
            "_________________________________________________________________\n",
            "conv2d_37 (Conv2D)           (None, 2, 2, 64)          18496     \n",
            "_________________________________________________________________\n",
            "max_pooling2d_35 (MaxPooling (None, 1, 1, 64)          0         \n",
            "_________________________________________________________________\n",
            "dropout_16 (Dropout)         (None, 1, 1, 64)          0         \n",
            "_________________________________________________________________\n",
            "flatten_8 (Flatten)          (None, 64)                0         \n",
            "_________________________________________________________________\n",
            "dense_16 (Dense)             (None, 100)               6500      \n",
            "_________________________________________________________________\n",
            "dropout_17 (Dropout)         (None, 100)               0         \n",
            "_________________________________________________________________\n",
            "dense_17 (Dense)             (None, 10)                1010      \n",
            "=================================================================\n",
            "Total params: 44,822\n",
            "Trainable params: 44,822\n",
            "Non-trainable params: 0\n",
            "_________________________________________________________________\n"
          ],
          "name": "stdout"
        }
      ]
    },
    {
      "cell_type": "code",
      "metadata": {
        "colab": {
          "base_uri": "https://localhost:8080/"
        },
        "id": "1I7BFI2_Hass",
        "outputId": "3de58f33-bba5-481a-9edc-9c755de4084a"
      },
      "source": [
        "model4.compile(loss='categorical_crossentropy',optimizer='adam',metrics=['accuracy'])\n",
        "hist = model4.fit(train_norm,trainY,batch_size=32,epochs=10,validation_data=(x_valid,y_valid),verbose=2)"
      ],
      "execution_count": 34,
      "outputs": [
        {
          "output_type": "stream",
          "text": [
            "Epoch 1/10\n",
            "1563/1563 - 9s - loss: 0.3656 - accuracy: 0.8846 - val_loss: 0.1128 - val_accuracy: 0.9686\n",
            "Epoch 2/10\n",
            "1563/1563 - 7s - loss: 0.1175 - accuracy: 0.9676 - val_loss: 0.0610 - val_accuracy: 0.9825\n",
            "Epoch 3/10\n",
            "1563/1563 - 8s - loss: 0.0832 - accuracy: 0.9774 - val_loss: 0.0599 - val_accuracy: 0.9834\n",
            "Epoch 4/10\n",
            "1563/1563 - 8s - loss: 0.0651 - accuracy: 0.9814 - val_loss: 0.0617 - val_accuracy: 0.9839\n",
            "Epoch 5/10\n",
            "1563/1563 - 8s - loss: 0.0568 - accuracy: 0.9845 - val_loss: 0.0501 - val_accuracy: 0.9863\n",
            "Epoch 6/10\n",
            "1563/1563 - 7s - loss: 0.0481 - accuracy: 0.9861 - val_loss: 0.0488 - val_accuracy: 0.9879\n",
            "Epoch 7/10\n",
            "1563/1563 - 8s - loss: 0.0427 - accuracy: 0.9885 - val_loss: 0.0480 - val_accuracy: 0.9875\n",
            "Epoch 8/10\n",
            "1563/1563 - 8s - loss: 0.0380 - accuracy: 0.9892 - val_loss: 0.0505 - val_accuracy: 0.9874\n",
            "Epoch 9/10\n",
            "1563/1563 - 7s - loss: 0.0339 - accuracy: 0.9908 - val_loss: 0.0456 - val_accuracy: 0.9875\n",
            "Epoch 10/10\n",
            "1563/1563 - 7s - loss: 0.0322 - accuracy: 0.9908 - val_loss: 0.0491 - val_accuracy: 0.9882\n"
          ],
          "name": "stdout"
        }
      ]
    },
    {
      "cell_type": "code",
      "metadata": {
        "colab": {
          "base_uri": "https://localhost:8080/"
        },
        "id": "XajcLmmmHavy",
        "outputId": "f2ef2701-99d1-4507-a740-d77471b0847a"
      },
      "source": [
        "score_model4 = model4.evaluate(testX,testY,verbose=0)\n",
        "print('\\n', \"Test Accuracy of model4 =\", score_model4[1])"
      ],
      "execution_count": 35,
      "outputs": [
        {
          "output_type": "stream",
          "text": [
            "\n",
            " Test Accuracy of model4 = 0.9718000292778015\n"
          ],
          "name": "stdout"
        }
      ]
    },
    {
      "cell_type": "markdown",
      "metadata": {
        "id": "AePyNybPldFi"
      },
      "source": [
        "## **Test Accuracy for model 4 is 97%**"
      ]
    },
    {
      "cell_type": "markdown",
      "metadata": {
        "id": "20ncj44yljVX"
      },
      "source": [
        "Model 5"
      ]
    },
    {
      "cell_type": "code",
      "metadata": {
        "colab": {
          "base_uri": "https://localhost:8080/"
        },
        "id": "MSbjLoSkl_Pw",
        "outputId": "772c76c3-76a2-4af3-dda6-ef90f0cb1367"
      },
      "source": [
        "model5 = Sequential()\n",
        "model5.add(Conv2D(filters=32, kernel_size=3, padding='same',activation='relu', input_shape=(28,28,1)))\n",
        "model5.add(Conv2D(filters=64, kernel_size=3, padding='same',activation='relu'))\n",
        "model5.add(MaxPool2D(pool_size=2))\n",
        "model5.add(Conv2D(filters=64, kernel_size=3, padding='same',activation='relu', input_shape=(28,28,1)))\n",
        "model5.add(Conv2D(filters=128, kernel_size=3, padding='same',activation='relu'))\n",
        "model5.add(MaxPool2D(pool_size=2))\n",
        "model5.add(Conv2D(filters=128, kernel_size=3, padding='same',activation='relu', input_shape=(28,28,1)))\n",
        "model5.add(Conv2D(filters=256, kernel_size=3, padding='same',activation='relu'))\n",
        "model5.add(MaxPool2D(pool_size=2))\n",
        "model5.add(Dropout(0.3))\n",
        "model5.add(Flatten())\n",
        "model5.add(Dense(100,activation='relu'))\n",
        "model5.add(Dropout(0.4))\n",
        "model5.add(Dense(10,activation='softmax'))\n",
        "model5.summary()"
      ],
      "execution_count": 36,
      "outputs": [
        {
          "output_type": "stream",
          "text": [
            "Model: \"sequential_11\"\n",
            "_________________________________________________________________\n",
            "Layer (type)                 Output Shape              Param #   \n",
            "=================================================================\n",
            "conv2d_38 (Conv2D)           (None, 28, 28, 32)        320       \n",
            "_________________________________________________________________\n",
            "conv2d_39 (Conv2D)           (None, 28, 28, 64)        18496     \n",
            "_________________________________________________________________\n",
            "max_pooling2d_36 (MaxPooling (None, 14, 14, 64)        0         \n",
            "_________________________________________________________________\n",
            "conv2d_40 (Conv2D)           (None, 14, 14, 64)        36928     \n",
            "_________________________________________________________________\n",
            "conv2d_41 (Conv2D)           (None, 14, 14, 128)       73856     \n",
            "_________________________________________________________________\n",
            "max_pooling2d_37 (MaxPooling (None, 7, 7, 128)         0         \n",
            "_________________________________________________________________\n",
            "conv2d_42 (Conv2D)           (None, 7, 7, 128)         147584    \n",
            "_________________________________________________________________\n",
            "conv2d_43 (Conv2D)           (None, 7, 7, 256)         295168    \n",
            "_________________________________________________________________\n",
            "max_pooling2d_38 (MaxPooling (None, 3, 3, 256)         0         \n",
            "_________________________________________________________________\n",
            "dropout_18 (Dropout)         (None, 3, 3, 256)         0         \n",
            "_________________________________________________________________\n",
            "flatten_9 (Flatten)          (None, 2304)              0         \n",
            "_________________________________________________________________\n",
            "dense_18 (Dense)             (None, 100)               230500    \n",
            "_________________________________________________________________\n",
            "dropout_19 (Dropout)         (None, 100)               0         \n",
            "_________________________________________________________________\n",
            "dense_19 (Dense)             (None, 10)                1010      \n",
            "=================================================================\n",
            "Total params: 803,862\n",
            "Trainable params: 803,862\n",
            "Non-trainable params: 0\n",
            "_________________________________________________________________\n"
          ],
          "name": "stdout"
        }
      ]
    },
    {
      "cell_type": "code",
      "metadata": {
        "colab": {
          "base_uri": "https://localhost:8080/"
        },
        "id": "fBBBVqMIlhdJ",
        "outputId": "d1307c26-fc07-4f7b-c8f5-0da544bfc59e"
      },
      "source": [
        "model5.compile(loss='categorical_crossentropy',optimizer='adam',metrics=['accuracy'])\n",
        "hist = model5.fit(train_norm,trainY,batch_size=32,epochs=10,validation_data=(x_valid,y_valid),verbose=2)"
      ],
      "execution_count": 37,
      "outputs": [
        {
          "output_type": "stream",
          "text": [
            "Epoch 1/10\n",
            "1563/1563 - 24s - loss: 0.1856 - accuracy: 0.9434 - val_loss: 0.0535 - val_accuracy: 0.9842\n",
            "Epoch 2/10\n",
            "1563/1563 - 22s - loss: 0.0613 - accuracy: 0.9836 - val_loss: 0.0428 - val_accuracy: 0.9867\n",
            "Epoch 3/10\n",
            "1563/1563 - 22s - loss: 0.0495 - accuracy: 0.9859 - val_loss: 0.0406 - val_accuracy: 0.9888\n",
            "Epoch 4/10\n",
            "1563/1563 - 22s - loss: 0.0388 - accuracy: 0.9883 - val_loss: 0.0358 - val_accuracy: 0.9908\n",
            "Epoch 5/10\n",
            "1563/1563 - 22s - loss: 0.0316 - accuracy: 0.9910 - val_loss: 0.0475 - val_accuracy: 0.9895\n",
            "Epoch 6/10\n",
            "1563/1563 - 22s - loss: 0.0291 - accuracy: 0.9917 - val_loss: 0.0487 - val_accuracy: 0.9887\n",
            "Epoch 7/10\n",
            "1563/1563 - 22s - loss: 0.0266 - accuracy: 0.9926 - val_loss: 0.0427 - val_accuracy: 0.9899\n",
            "Epoch 8/10\n",
            "1563/1563 - 22s - loss: 0.0244 - accuracy: 0.9934 - val_loss: 0.0332 - val_accuracy: 0.9918\n",
            "Epoch 9/10\n",
            "1563/1563 - 21s - loss: 0.0230 - accuracy: 0.9936 - val_loss: 0.0480 - val_accuracy: 0.9918\n",
            "Epoch 10/10\n",
            "1563/1563 - 22s - loss: 0.0221 - accuracy: 0.9943 - val_loss: 0.0355 - val_accuracy: 0.9925\n"
          ],
          "name": "stdout"
        }
      ]
    },
    {
      "cell_type": "code",
      "metadata": {
        "colab": {
          "base_uri": "https://localhost:8080/"
        },
        "id": "N_QkEDw-HazR",
        "outputId": "c193f739-7b94-4dad-a976-c4c73fd02ebf"
      },
      "source": [
        "score_model5 = model5.evaluate(testX,testY,verbose=0)\n",
        "print('\\n', \"Test Accuracy of model5 =\", score_model5[1])"
      ],
      "execution_count": 40,
      "outputs": [
        {
          "output_type": "stream",
          "text": [
            "\n",
            " Test Accuracy of model5 = 0.9940999746322632\n"
          ],
          "name": "stdout"
        }
      ]
    },
    {
      "cell_type": "markdown",
      "metadata": {
        "id": "Epz1ngezprex"
      },
      "source": [
        "# **Test Accuracy of Model 5 is 99.4%**"
      ]
    },
    {
      "cell_type": "code",
      "metadata": {
        "colab": {
          "base_uri": "https://localhost:8080/"
        },
        "id": "9HQEdrZopxbK",
        "outputId": "ceb228cc-c928-449f-d5d0-4747f8eacbd9"
      },
      "source": [
        "pip install prettytable "
      ],
      "execution_count": 41,
      "outputs": [
        {
          "output_type": "stream",
          "text": [
            "Requirement already satisfied: prettytable in /usr/local/lib/python3.7/dist-packages (2.1.0)\n",
            "Requirement already satisfied: wcwidth in /usr/local/lib/python3.7/dist-packages (from prettytable) (0.2.5)\n",
            "Requirement already satisfied: importlib-metadata; python_version < \"3.8\" in /usr/local/lib/python3.7/dist-packages (from prettytable) (4.6.1)\n",
            "Requirement already satisfied: zipp>=0.5 in /usr/local/lib/python3.7/dist-packages (from importlib-metadata; python_version < \"3.8\"->prettytable) (3.5.0)\n",
            "Requirement already satisfied: typing-extensions>=3.6.4; python_version < \"3.8\" in /usr/local/lib/python3.7/dist-packages (from importlib-metadata; python_version < \"3.8\"->prettytable) (3.7.4.3)\n"
          ],
          "name": "stdout"
        }
      ]
    },
    {
      "cell_type": "code",
      "metadata": {
        "colab": {
          "base_uri": "https://localhost:8080/"
        },
        "id": "dV5pFsi-Ha2P",
        "outputId": "24e82353-d4d7-4889-bc06-2cb701efc8c2"
      },
      "source": [
        "from prettytable import PrettyTable\n",
        "  \n",
        "Accuracy_Table = PrettyTable([\"Model\", \"Test Accuracy\"])\n",
        "  \n",
        "# Add rows\n",
        "Accuracy_Table.add_row([\"Model 1\", \"74%\"])\n",
        "Accuracy_Table.add_row([\"Model 2\", \"88%\"])\n",
        "Accuracy_Table.add_row([\"Model 3\", \"98%\"])\n",
        "Accuracy_Table.add_row([\"Model 4\", \"97%\"])\n",
        "Accuracy_Table.add_row([\"Model 5\", \"99%\"])\n",
        "print(Accuracy_Table)\n"
      ],
      "execution_count": 1,
      "outputs": [
        {
          "output_type": "stream",
          "text": [
            "+---------+---------------+\n",
            "|  Model  | Test Accuracy |\n",
            "+---------+---------------+\n",
            "| Model 1 |      74%      |\n",
            "| Model 2 |      88%      |\n",
            "| Model 3 |      98%      |\n",
            "| Model 4 |      97%      |\n",
            "| Model 5 |      99%      |\n",
            "+---------+---------------+\n"
          ],
          "name": "stdout"
        }
      ]
    }
  ]
}