{
  "nbformat": 4,
  "nbformat_minor": 0,
  "metadata": {
    "colab": {
      "name": "Pytorch Basics.ipynb",
      "provenance": [],
      "authorship_tag": "ABX9TyNwPUL6uQKQ8YXXHm68yIOC",
      "include_colab_link": true
    },
    "kernelspec": {
      "name": "python3",
      "display_name": "Python 3"
    },
    "language_info": {
      "name": "python"
    },
    "accelerator": "GPU"
  },
  "cells": [
    {
      "cell_type": "markdown",
      "metadata": {
        "id": "view-in-github",
        "colab_type": "text"
      },
      "source": [
        "<a href=\"https://colab.research.google.com/github/sunspai1/ML_Code_Practise/blob/main/Pytorch_Basics.ipynb\" target=\"_parent\"><img src=\"https://colab.research.google.com/assets/colab-badge.svg\" alt=\"Open In Colab\"/></a>"
      ]
    },
    {
      "cell_type": "code",
      "metadata": {
        "id": "_6RzeqoB4MKL"
      },
      "source": [
        "import numpy as np\n",
        "import torch"
      ],
      "execution_count": 1,
      "outputs": []
    },
    {
      "cell_type": "code",
      "metadata": {
        "id": "5bqQw01D4WaM"
      },
      "source": [
        "SEED = 1234"
      ],
      "execution_count": 2,
      "outputs": []
    },
    {
      "cell_type": "code",
      "metadata": {
        "colab": {
          "base_uri": "https://localhost:8080/"
        },
        "id": "FjMEGaXn4aSe",
        "outputId": "26a1938b-669f-4fa5-984a-22e9c3533568"
      },
      "source": [
        "# Set see for reproducibility\n",
        "np.random.seed(seed=SEED)\n",
        "torch.manual_seed(SEED)"
      ],
      "execution_count": 3,
      "outputs": [
        {
          "output_type": "execute_result",
          "data": {
            "text/plain": [
              "<torch._C.Generator at 0x7fa5ab8bbb90>"
            ]
          },
          "metadata": {},
          "execution_count": 3
        }
      ]
    },
    {
      "cell_type": "code",
      "metadata": {
        "id": "me_AK7Wb4mBK"
      },
      "source": [
        "# Basics\n",
        "# Creating a rndom tensor\n",
        "x =  torch.randn(2,3)"
      ],
      "execution_count": 4,
      "outputs": []
    },
    {
      "cell_type": "code",
      "metadata": {
        "colab": {
          "base_uri": "https://localhost:8080/"
        },
        "id": "IHHUA71l4z9J",
        "outputId": "28b2496b-1e37-4d82-f9bd-05a6fd039e85"
      },
      "source": [
        "type(x)"
      ],
      "execution_count": 6,
      "outputs": [
        {
          "output_type": "execute_result",
          "data": {
            "text/plain": [
              "torch.Tensor"
            ]
          },
          "metadata": {},
          "execution_count": 6
        }
      ]
    },
    {
      "cell_type": "code",
      "metadata": {
        "colab": {
          "base_uri": "https://localhost:8080/"
        },
        "id": "j0cUhGSR43dV",
        "outputId": "a1a37652-7ea1-4487-b0f6-8f8c196af871"
      },
      "source": [
        "x.shape"
      ],
      "execution_count": 7,
      "outputs": [
        {
          "output_type": "execute_result",
          "data": {
            "text/plain": [
              "torch.Size([2, 3])"
            ]
          },
          "metadata": {},
          "execution_count": 7
        }
      ]
    },
    {
      "cell_type": "code",
      "metadata": {
        "colab": {
          "base_uri": "https://localhost:8080/"
        },
        "id": "y_BWhoxM43gi",
        "outputId": "729718d9-6408-4bb3-ed8d-9f9d294b9dff"
      },
      "source": [
        "x"
      ],
      "execution_count": 8,
      "outputs": [
        {
          "output_type": "execute_result",
          "data": {
            "text/plain": [
              "tensor([[ 0.0461,  0.4024, -1.0115],\n",
              "        [ 0.2167, -0.6123,  0.5036]])"
            ]
          },
          "metadata": {},
          "execution_count": 8
        }
      ]
    },
    {
      "cell_type": "code",
      "metadata": {
        "colab": {
          "base_uri": "https://localhost:8080/"
        },
        "id": "puT_r14y43ka",
        "outputId": "96d7f2a8-0656-4e46-ef47-25c6590be0ce"
      },
      "source": [
        "#Zeros and Ones Tensor\n",
        "x = torch.zeros(2,3)\n",
        "print(x)"
      ],
      "execution_count": 9,
      "outputs": [
        {
          "output_type": "stream",
          "name": "stdout",
          "text": [
            "tensor([[0., 0., 0.],\n",
            "        [0., 0., 0.]])\n"
          ]
        }
      ]
    },
    {
      "cell_type": "code",
      "metadata": {
        "colab": {
          "base_uri": "https://localhost:8080/"
        },
        "id": "erqa1Cks43nY",
        "outputId": "69ebcd65-24e1-4a46-e402-e220903a841d"
      },
      "source": [
        "y = torch.ones(2,3)\n",
        "print(y)"
      ],
      "execution_count": 10,
      "outputs": [
        {
          "output_type": "stream",
          "name": "stdout",
          "text": [
            "tensor([[1., 1., 1.],\n",
            "        [1., 1., 1.]])\n"
          ]
        }
      ]
    },
    {
      "cell_type": "code",
      "metadata": {
        "id": "k6IyI-2L43rS"
      },
      "source": [
        "# List to Tensor\n",
        "x = torch.Tensor([[1,2,3],[2,4,5]])"
      ],
      "execution_count": 11,
      "outputs": []
    },
    {
      "cell_type": "code",
      "metadata": {
        "colab": {
          "base_uri": "https://localhost:8080/"
        },
        "id": "y2fn2PPb5ij4",
        "outputId": "ae0a17fa-03bd-4e37-ebfd-bbea39d62180"
      },
      "source": [
        "print(x)"
      ],
      "execution_count": 12,
      "outputs": [
        {
          "output_type": "stream",
          "name": "stdout",
          "text": [
            "tensor([[1., 2., 3.],\n",
            "        [2., 4., 5.]])\n"
          ]
        }
      ]
    },
    {
      "cell_type": "code",
      "metadata": {
        "colab": {
          "base_uri": "https://localhost:8080/"
        },
        "id": "udkDy2rF43tS",
        "outputId": "c8037cd8-bb7a-4669-f8da-56821c882cf1"
      },
      "source": [
        "x.shape"
      ],
      "execution_count": 13,
      "outputs": [
        {
          "output_type": "execute_result",
          "data": {
            "text/plain": [
              "torch.Size([2, 3])"
            ]
          },
          "metadata": {},
          "execution_count": 13
        }
      ]
    },
    {
      "cell_type": "code",
      "metadata": {
        "id": "xvuN19jd43vn"
      },
      "source": [
        "x = torch.Tensor(np.random.rand(2,3))"
      ],
      "execution_count": 14,
      "outputs": []
    },
    {
      "cell_type": "code",
      "metadata": {
        "colab": {
          "base_uri": "https://localhost:8080/"
        },
        "id": "V4bL-DEU50yB",
        "outputId": "6e9c01be-685b-49d9-bb41-eab7a306934d"
      },
      "source": [
        "x.shape"
      ],
      "execution_count": 16,
      "outputs": [
        {
          "output_type": "execute_result",
          "data": {
            "text/plain": [
              "torch.Size([2, 3])"
            ]
          },
          "metadata": {},
          "execution_count": 16
        }
      ]
    },
    {
      "cell_type": "code",
      "metadata": {
        "colab": {
          "base_uri": "https://localhost:8080/"
        },
        "id": "M2x9zSDq53Zf",
        "outputId": "87d4bbe3-4056-4bc1-fc55-069d78742c2e"
      },
      "source": [
        "x"
      ],
      "execution_count": 17,
      "outputs": [
        {
          "output_type": "execute_result",
          "data": {
            "text/plain": [
              "tensor([[0.1915, 0.6221, 0.4377],\n",
              "        [0.7854, 0.7800, 0.2726]])"
            ]
          },
          "metadata": {},
          "execution_count": 17
        }
      ]
    },
    {
      "cell_type": "code",
      "metadata": {
        "id": "on4sTx9f43zB"
      },
      "source": [
        "z = np.random.rand(2,3)"
      ],
      "execution_count": 18,
      "outputs": []
    },
    {
      "cell_type": "code",
      "metadata": {
        "colab": {
          "base_uri": "https://localhost:8080/"
        },
        "id": "A8yKV1jx434A",
        "outputId": "030ff3fa-035f-4d63-9087-98c50f8cb292"
      },
      "source": [
        "z"
      ],
      "execution_count": 19,
      "outputs": [
        {
          "output_type": "execute_result",
          "data": {
            "text/plain": [
              "array([[0.27646426, 0.80187218, 0.95813935],\n",
              "       [0.87593263, 0.35781727, 0.50099513]])"
            ]
          },
          "metadata": {},
          "execution_count": 19
        }
      ]
    },
    {
      "cell_type": "code",
      "metadata": {
        "id": "L5XFErqV435E"
      },
      "source": [
        "# Change the tensor type\n",
        "x = torch.Tensor(3,4)"
      ],
      "execution_count": 20,
      "outputs": []
    },
    {
      "cell_type": "code",
      "metadata": {
        "colab": {
          "base_uri": "https://localhost:8080/",
          "height": 35
        },
        "id": "Gt0vk5DH8x7-",
        "outputId": "24c4e950-33e6-430c-fe6c-0983e1bb0c28"
      },
      "source": [
        "x.type()"
      ],
      "execution_count": 21,
      "outputs": [
        {
          "output_type": "execute_result",
          "data": {
            "application/vnd.google.colaboratory.intrinsic+json": {
              "type": "string"
            },
            "text/plain": [
              "'torch.FloatTensor'"
            ]
          },
          "metadata": {},
          "execution_count": 21
        }
      ]
    },
    {
      "cell_type": "code",
      "metadata": {
        "colab": {
          "base_uri": "https://localhost:8080/"
        },
        "id": "p8zvFduv438D",
        "outputId": "fa223e33-b736-4aa8-f68b-cba855c153c0"
      },
      "source": [
        "x.long()"
      ],
      "execution_count": 22,
      "outputs": [
        {
          "output_type": "execute_result",
          "data": {
            "text/plain": [
              "tensor([[0, 0, 0, 0],\n",
              "        [0, 0, 0, 0],\n",
              "        [0, 0, 0, 0]])"
            ]
          },
          "metadata": {},
          "execution_count": 22
        }
      ]
    },
    {
      "cell_type": "markdown",
      "metadata": {
        "id": "92xkpc9887MT"
      },
      "source": [
        "## Operations in Tensors"
      ]
    },
    {
      "cell_type": "code",
      "metadata": {
        "id": "jW4dRAKO89si"
      },
      "source": [
        "#Addition\n",
        "x = torch.randn(2,3)\n",
        "y = torch.randn(2,3)\n",
        "z = x+y"
      ],
      "execution_count": 23,
      "outputs": []
    },
    {
      "cell_type": "code",
      "metadata": {
        "colab": {
          "base_uri": "https://localhost:8080/"
        },
        "id": "wEvD0E329I0A",
        "outputId": "d54d2952-a1ce-4325-d35d-a3978b82a902"
      },
      "source": [
        "z.shape"
      ],
      "execution_count": 24,
      "outputs": [
        {
          "output_type": "execute_result",
          "data": {
            "text/plain": [
              "torch.Size([2, 3])"
            ]
          },
          "metadata": {},
          "execution_count": 24
        }
      ]
    },
    {
      "cell_type": "code",
      "metadata": {
        "colab": {
          "base_uri": "https://localhost:8080/"
        },
        "id": "nKVoIbQw8-f0",
        "outputId": "e3d6d4c4-9afc-464d-867c-a300eeb620ce"
      },
      "source": [
        "z.long()"
      ],
      "execution_count": 26,
      "outputs": [
        {
          "output_type": "execute_result",
          "data": {
            "text/plain": [
              "tensor([[0, 0, 0],\n",
              "        [3, 0, 0]])"
            ]
          },
          "metadata": {},
          "execution_count": 26
        }
      ]
    },
    {
      "cell_type": "code",
      "metadata": {
        "id": "lNdX_m3V8-jk"
      },
      "source": [
        "# Dot Product\n",
        "\n",
        "x = torch.randn(2,3)\n",
        "y = torch.randn(3,2)\n"
      ],
      "execution_count": 27,
      "outputs": []
    },
    {
      "cell_type": "code",
      "metadata": {
        "id": "QWQIoXkX9cIL"
      },
      "source": [
        "z = torch.mm(x,y)"
      ],
      "execution_count": 28,
      "outputs": []
    },
    {
      "cell_type": "code",
      "metadata": {
        "colab": {
          "base_uri": "https://localhost:8080/"
        },
        "id": "9oFgDsPi8-mU",
        "outputId": "f26a7b8c-8108-4113-dbce-96a7a42fc959"
      },
      "source": [
        "z.shape"
      ],
      "execution_count": 30,
      "outputs": [
        {
          "output_type": "execute_result",
          "data": {
            "text/plain": [
              "torch.Size([2, 2])"
            ]
          },
          "metadata": {},
          "execution_count": 30
        }
      ]
    },
    {
      "cell_type": "code",
      "metadata": {
        "colab": {
          "base_uri": "https://localhost:8080/"
        },
        "id": "4w-uX0mc9jy8",
        "outputId": "1498eb78-777c-4110-901e-8f3d793bca55"
      },
      "source": [
        "z"
      ],
      "execution_count": 31,
      "outputs": [
        {
          "output_type": "execute_result",
          "data": {
            "text/plain": [
              "tensor([[ 1.0796, -0.0759],\n",
              "        [ 1.2746, -0.5134]])"
            ]
          },
          "metadata": {},
          "execution_count": 31
        }
      ]
    },
    {
      "cell_type": "code",
      "metadata": {
        "colab": {
          "base_uri": "https://localhost:8080/"
        },
        "id": "2kD_7MqL8-pO",
        "outputId": "571d8c4a-fd20-4d8b-cf46-47c3d72ab98a"
      },
      "source": [
        "# Transpose\n",
        "x = torch.randn(2,3)\n",
        "x.shape"
      ],
      "execution_count": 32,
      "outputs": [
        {
          "output_type": "execute_result",
          "data": {
            "text/plain": [
              "torch.Size([2, 3])"
            ]
          },
          "metadata": {},
          "execution_count": 32
        }
      ]
    },
    {
      "cell_type": "code",
      "metadata": {
        "id": "OTLjdSZD8-uI"
      },
      "source": [
        "y  = torch.t(x)"
      ],
      "execution_count": 33,
      "outputs": []
    },
    {
      "cell_type": "code",
      "metadata": {
        "colab": {
          "base_uri": "https://localhost:8080/"
        },
        "id": "J0Sj_u0T8-vw",
        "outputId": "97089cad-3657-4302-b10f-8ad34a57f8b6"
      },
      "source": [
        "y.shape"
      ],
      "execution_count": 34,
      "outputs": [
        {
          "output_type": "execute_result",
          "data": {
            "text/plain": [
              "torch.Size([3, 2])"
            ]
          },
          "metadata": {},
          "execution_count": 34
        }
      ]
    },
    {
      "cell_type": "code",
      "metadata": {
        "id": "82tSnFcc8-y_"
      },
      "source": [
        "#Reshape\n",
        "x = torch.randn(2,3)\n",
        "z = x.view(3,2)"
      ],
      "execution_count": 38,
      "outputs": []
    },
    {
      "cell_type": "code",
      "metadata": {
        "colab": {
          "base_uri": "https://localhost:8080/"
        },
        "id": "haoQdyLF8-0M",
        "outputId": "6d56eb77-bc65-4892-f53a-04c9d6b16343"
      },
      "source": [
        "z"
      ],
      "execution_count": 36,
      "outputs": [
        {
          "output_type": "execute_result",
          "data": {
            "text/plain": [
              "tensor([[ 0.4501,  0.2709],\n",
              "        [-0.8087, -0.0217],\n",
              "        [-1.0413,  0.0702]])"
            ]
          },
          "metadata": {},
          "execution_count": 36
        }
      ]
    },
    {
      "cell_type": "code",
      "metadata": {
        "id": "2gXz1ok_8-3c"
      },
      "source": [
        "x = torch.tensor([\n",
        "    [[1,1,1,1], [2,2,2,2], [3,3,3,3]],\n",
        "    [[10,10,10,10], [20,20,20,20], [30,30,30,30]]\n",
        "])"
      ],
      "execution_count": 39,
      "outputs": []
    },
    {
      "cell_type": "code",
      "metadata": {
        "colab": {
          "base_uri": "https://localhost:8080/"
        },
        "id": "GvVMzmoq_sDz",
        "outputId": "3d12acb2-b4b5-466f-da36-7797539a6467"
      },
      "source": [
        "x.shape"
      ],
      "execution_count": 41,
      "outputs": [
        {
          "output_type": "execute_result",
          "data": {
            "text/plain": [
              "torch.Size([2, 3, 4])"
            ]
          },
          "metadata": {},
          "execution_count": 41
        }
      ]
    },
    {
      "cell_type": "code",
      "metadata": {
        "id": "dITy0w3rAFav"
      },
      "source": [
        "a = x.view(x.size(1),-1)"
      ],
      "execution_count": 44,
      "outputs": []
    },
    {
      "cell_type": "code",
      "metadata": {
        "colab": {
          "base_uri": "https://localhost:8080/"
        },
        "id": "MyAhEQPOARk4",
        "outputId": "8db896b8-fb59-4b62-95ed-059b89f259b5"
      },
      "source": [
        "a"
      ],
      "execution_count": 46,
      "outputs": [
        {
          "output_type": "execute_result",
          "data": {
            "text/plain": [
              "tensor([[ 1,  1,  1,  1,  2,  2,  2,  2],\n",
              "        [ 3,  3,  3,  3, 10, 10, 10, 10],\n",
              "        [20, 20, 20, 20, 30, 30, 30, 30]])"
            ]
          },
          "metadata": {},
          "execution_count": 46
        }
      ]
    },
    {
      "cell_type": "code",
      "metadata": {
        "id": "FH6HU8_N8-6i"
      },
      "source": [
        "b = x.transpose(0,1).contiguous()"
      ],
      "execution_count": 48,
      "outputs": []
    },
    {
      "cell_type": "code",
      "metadata": {
        "colab": {
          "base_uri": "https://localhost:8080/"
        },
        "id": "wJlUA2SGA547",
        "outputId": "2cfd8486-3ba8-4063-d2ec-c1ff288e13cb"
      },
      "source": [
        "b.shape"
      ],
      "execution_count": 49,
      "outputs": [
        {
          "output_type": "execute_result",
          "data": {
            "text/plain": [
              "torch.Size([3, 2, 4])"
            ]
          },
          "metadata": {},
          "execution_count": 49
        }
      ]
    },
    {
      "cell_type": "code",
      "metadata": {
        "colab": {
          "base_uri": "https://localhost:8080/"
        },
        "id": "KmvviiXG8-9t",
        "outputId": "3c69e617-e175-4903-cc41-d7fbe2b97ff2"
      },
      "source": [
        "b"
      ],
      "execution_count": 50,
      "outputs": [
        {
          "output_type": "execute_result",
          "data": {
            "text/plain": [
              "tensor([[[ 1,  1,  1,  1],\n",
              "         [10, 10, 10, 10]],\n",
              "\n",
              "        [[ 2,  2,  2,  2],\n",
              "         [20, 20, 20, 20]],\n",
              "\n",
              "        [[ 3,  3,  3,  3],\n",
              "         [30, 30, 30, 30]]])"
            ]
          },
          "metadata": {},
          "execution_count": 50
        }
      ]
    },
    {
      "cell_type": "code",
      "metadata": {
        "id": "wN3BdAmI43_M"
      },
      "source": [
        "c = b.view(b.size(0),-1)"
      ],
      "execution_count": 51,
      "outputs": []
    },
    {
      "cell_type": "code",
      "metadata": {
        "colab": {
          "base_uri": "https://localhost:8080/"
        },
        "id": "HZ2UVSKNBPL3",
        "outputId": "1cd25e96-93c6-4c98-ced9-236247241df6"
      },
      "source": [
        "c.shape"
      ],
      "execution_count": 52,
      "outputs": [
        {
          "output_type": "execute_result",
          "data": {
            "text/plain": [
              "torch.Size([3, 8])"
            ]
          },
          "metadata": {},
          "execution_count": 52
        }
      ]
    },
    {
      "cell_type": "code",
      "metadata": {
        "colab": {
          "base_uri": "https://localhost:8080/"
        },
        "id": "2G1QXUn8BI6W",
        "outputId": "21d201c0-f46f-44da-cf97-abad21bd890b"
      },
      "source": [
        "c"
      ],
      "execution_count": 53,
      "outputs": [
        {
          "output_type": "execute_result",
          "data": {
            "text/plain": [
              "tensor([[ 1,  1,  1,  1, 10, 10, 10, 10],\n",
              "        [ 2,  2,  2,  2, 20, 20, 20, 20],\n",
              "        [ 3,  3,  3,  3, 30, 30, 30, 30]])"
            ]
          },
          "metadata": {},
          "execution_count": 53
        }
      ]
    },
    {
      "cell_type": "code",
      "metadata": {
        "id": "4XaY68nlBI9n"
      },
      "source": [
        "# Dimensional operations\n",
        "x = torch.randn(2,3)\n",
        "y = torch.sum(x,dim=0)"
      ],
      "execution_count": 54,
      "outputs": []
    },
    {
      "cell_type": "code",
      "metadata": {
        "id": "1JB4pdyCBe9p"
      },
      "source": [
        "z = torch.sum(x, dim=1)"
      ],
      "execution_count": 55,
      "outputs": []
    },
    {
      "cell_type": "code",
      "metadata": {
        "colab": {
          "base_uri": "https://localhost:8080/"
        },
        "id": "QkINQ_yqBmRO",
        "outputId": "38016179-8ba6-41a1-c485-9476b69d8fdf"
      },
      "source": [
        "y"
      ],
      "execution_count": 56,
      "outputs": [
        {
          "output_type": "execute_result",
          "data": {
            "text/plain": [
              "tensor([-0.3071, -1.7100,  0.0452])"
            ]
          },
          "metadata": {},
          "execution_count": 56
        }
      ]
    },
    {
      "cell_type": "code",
      "metadata": {
        "colab": {
          "base_uri": "https://localhost:8080/"
        },
        "id": "GI3piFD4BJFm",
        "outputId": "2bda3287-c650-41e6-ff6b-47220a51e134"
      },
      "source": [
        "z"
      ],
      "execution_count": 57,
      "outputs": [
        {
          "output_type": "execute_result",
          "data": {
            "text/plain": [
              "tensor([ 1.4806, -3.4525])"
            ]
          },
          "metadata": {},
          "execution_count": 57
        }
      ]
    },
    {
      "cell_type": "code",
      "metadata": {
        "id": "EntzoI_wBJIs"
      },
      "source": [
        "x = torch.randn(3,4)"
      ],
      "execution_count": 58,
      "outputs": []
    },
    {
      "cell_type": "code",
      "metadata": {
        "colab": {
          "base_uri": "https://localhost:8080/"
        },
        "id": "RF-4lIcVB456",
        "outputId": "4ff73bac-a6cc-4efa-c384-f773a65adaf1"
      },
      "source": [
        "x"
      ],
      "execution_count": 59,
      "outputs": [
        {
          "output_type": "execute_result",
          "data": {
            "text/plain": [
              "tensor([[ 0.6486,  1.7653,  1.0812,  1.2436],\n",
              "        [ 0.8971, -0.0784,  0.5548, -0.0845],\n",
              "        [ 0.5903, -1.0032, -1.7873,  0.0538]])"
            ]
          },
          "metadata": {},
          "execution_count": 59
        }
      ]
    },
    {
      "cell_type": "code",
      "metadata": {
        "colab": {
          "base_uri": "https://localhost:8080/"
        },
        "id": "RctiU1T6BJKd",
        "outputId": "cc480d43-b542-41e2-afa8-5435d15de9e8"
      },
      "source": [
        "x[1,1]"
      ],
      "execution_count": 67,
      "outputs": [
        {
          "output_type": "execute_result",
          "data": {
            "text/plain": [
              "tensor(-0.0784)"
            ]
          },
          "metadata": {},
          "execution_count": 67
        }
      ]
    },
    {
      "cell_type": "code",
      "metadata": {
        "colab": {
          "base_uri": "https://localhost:8080/"
        },
        "id": "EICF0i8tBJL6",
        "outputId": "2d5548cc-e1de-4cd3-9759-717a944c2bd1"
      },
      "source": [
        "# Select with dimensional indicies\n",
        "x = torch.randn(2, 3)\n",
        "print(f\"Values: \\n{x}\")"
      ],
      "execution_count": 68,
      "outputs": [
        {
          "output_type": "stream",
          "name": "stdout",
          "text": [
            "Values: \n",
            "tensor([[ 0.8246, -0.5723, -0.4876],\n",
            "        [ 0.1944, -1.0481, -0.0741]])\n"
          ]
        }
      ]
    },
    {
      "cell_type": "code",
      "metadata": {
        "id": "EXYBDPaRCeXj"
      },
      "source": [
        "col_indices = torch.LongTensor([0,2])"
      ],
      "execution_count": 69,
      "outputs": []
    },
    {
      "cell_type": "code",
      "metadata": {
        "colab": {
          "base_uri": "https://localhost:8080/"
        },
        "id": "-x2ZIB9jELaB",
        "outputId": "ab07c05e-7218-4f91-ef95-0c6169e4eb47"
      },
      "source": [
        "col_indices"
      ],
      "execution_count": 70,
      "outputs": [
        {
          "output_type": "execute_result",
          "data": {
            "text/plain": [
              "tensor([0, 2])"
            ]
          },
          "metadata": {},
          "execution_count": 70
        }
      ]
    },
    {
      "cell_type": "code",
      "metadata": {
        "id": "2Vm-4KrpEM7X"
      },
      "source": [
        "chosen  = torch.index_select(x, dim=1, index=col_indices)"
      ],
      "execution_count": 71,
      "outputs": []
    },
    {
      "cell_type": "code",
      "metadata": {
        "colab": {
          "base_uri": "https://localhost:8080/"
        },
        "id": "oJJhAcQ0Edvh",
        "outputId": "2de21d1a-7ecc-4dbd-a769-7c9276d75786"
      },
      "source": [
        "chosen"
      ],
      "execution_count": 72,
      "outputs": [
        {
          "output_type": "execute_result",
          "data": {
            "text/plain": [
              "tensor([[ 0.8246, -0.4876],\n",
              "        [ 0.1944, -0.0741]])"
            ]
          },
          "metadata": {},
          "execution_count": 72
        }
      ]
    },
    {
      "cell_type": "code",
      "metadata": {
        "id": "Oxkvo1JgBJNs"
      },
      "source": [
        "row_indices = torch.LongTensor([0, 1])\n",
        "col_indices = torch.LongTensor([0, 2])"
      ],
      "execution_count": 73,
      "outputs": []
    },
    {
      "cell_type": "code",
      "metadata": {
        "id": "ng1lVL_gExFg"
      },
      "source": [
        "chosen = x[row_indices, col_indices]"
      ],
      "execution_count": 78,
      "outputs": []
    },
    {
      "cell_type": "code",
      "metadata": {
        "colab": {
          "base_uri": "https://localhost:8080/"
        },
        "id": "DZ6IG7WtBJPg",
        "outputId": "e411ee76-b972-4dff-a8de-f03d1dc7d38a"
      },
      "source": [
        "chosen"
      ],
      "execution_count": 79,
      "outputs": [
        {
          "output_type": "execute_result",
          "data": {
            "text/plain": [
              "tensor([ 0.8246, -0.0741])"
            ]
          },
          "metadata": {},
          "execution_count": 79
        }
      ]
    },
    {
      "cell_type": "code",
      "metadata": {
        "colab": {
          "base_uri": "https://localhost:8080/"
        },
        "id": "G-_-6aThE1vo",
        "outputId": "a29931ce-090d-47e8-c9c1-f873b51c1269"
      },
      "source": [
        "x = torch.randn(2, 3)\n",
        "print (x)\n",
        "print (x.shape)"
      ],
      "execution_count": 80,
      "outputs": [
        {
          "output_type": "stream",
          "name": "stdout",
          "text": [
            "tensor([[-0.3449, -1.5447,  0.0685],\n",
            "        [-1.5104, -1.1706,  0.2259]])\n",
            "torch.Size([2, 3])\n"
          ]
        }
      ]
    },
    {
      "cell_type": "code",
      "metadata": {
        "colab": {
          "base_uri": "https://localhost:8080/"
        },
        "id": "1iMzdRWzGEXM",
        "outputId": "3ed0a5c9-b427-4bf7-f72b-6cdbd1a68da7"
      },
      "source": [
        "y = torch.cat([x,x],dim=0)\n",
        "print(y)"
      ],
      "execution_count": 81,
      "outputs": [
        {
          "output_type": "stream",
          "name": "stdout",
          "text": [
            "tensor([[-0.3449, -1.5447,  0.0685],\n",
            "        [-1.5104, -1.1706,  0.2259],\n",
            "        [-0.3449, -1.5447,  0.0685],\n",
            "        [-1.5104, -1.1706,  0.2259]])\n"
          ]
        }
      ]
    },
    {
      "cell_type": "code",
      "metadata": {
        "colab": {
          "base_uri": "https://localhost:8080/"
        },
        "id": "jiS43YmgE1yt",
        "outputId": "46791d76-67f9-4aad-d52d-80c49055e751"
      },
      "source": [
        "y.shape"
      ],
      "execution_count": 82,
      "outputs": [
        {
          "output_type": "execute_result",
          "data": {
            "text/plain": [
              "torch.Size([4, 3])"
            ]
          },
          "metadata": {},
          "execution_count": 82
        }
      ]
    },
    {
      "cell_type": "code",
      "metadata": {
        "colab": {
          "base_uri": "https://localhost:8080/"
        },
        "id": "2EjQgYApE12u",
        "outputId": "b7ba34bf-c2f3-401e-a0af-95e76c577648"
      },
      "source": [
        "# Stacking\n",
        "z = torch.stack([x, x], dim=0) # stack on new dimension\n",
        "print (z)\n",
        "print (z.shape)"
      ],
      "execution_count": 83,
      "outputs": [
        {
          "output_type": "stream",
          "name": "stdout",
          "text": [
            "tensor([[[-0.3449, -1.5447,  0.0685],\n",
            "         [-1.5104, -1.1706,  0.2259]],\n",
            "\n",
            "        [[-0.3449, -1.5447,  0.0685],\n",
            "         [-1.5104, -1.1706,  0.2259]]])\n",
            "torch.Size([2, 2, 3])\n"
          ]
        }
      ]
    },
    {
      "cell_type": "code",
      "metadata": {
        "id": "BUwp0yUcE14g"
      },
      "source": [
        "x  = torch.randn(3,4, requires_grad=True)"
      ],
      "execution_count": 85,
      "outputs": []
    },
    {
      "cell_type": "code",
      "metadata": {
        "colab": {
          "base_uri": "https://localhost:8080/"
        },
        "id": "Mt-0BreaIUHx",
        "outputId": "ee1d5743-061a-49f2-abe6-540129d88a7e"
      },
      "source": [
        "x"
      ],
      "execution_count": 86,
      "outputs": [
        {
          "output_type": "execute_result",
          "data": {
            "text/plain": [
              "tensor([[ 1.4696, -1.3284,  1.9946, -0.8209],\n",
              "        [ 1.0061, -1.0664, -0.4572,  0.0901],\n",
              "        [ 0.4018, -1.1542,  0.1192, -0.7348]], requires_grad=True)"
            ]
          },
          "metadata": {},
          "execution_count": 86
        }
      ]
    },
    {
      "cell_type": "code",
      "metadata": {
        "id": "CpwwFvqGE164"
      },
      "source": [
        "y = 3*x +2"
      ],
      "execution_count": 87,
      "outputs": []
    },
    {
      "cell_type": "code",
      "metadata": {
        "colab": {
          "base_uri": "https://localhost:8080/"
        },
        "id": "gh6DqoDoIglh",
        "outputId": "79652593-e0d4-449e-8f45-8c7b07ca0bfe"
      },
      "source": [
        "y"
      ],
      "execution_count": 89,
      "outputs": [
        {
          "output_type": "execute_result",
          "data": {
            "text/plain": [
              "tensor([[ 6.4087, -1.9852,  7.9838, -0.4627],\n",
              "        [ 5.0184, -1.1993,  0.6283,  2.2702],\n",
              "        [ 3.2054, -1.4625,  2.3577, -0.2043]], grad_fn=<AddBackward0>)"
            ]
          },
          "metadata": {},
          "execution_count": 89
        }
      ]
    },
    {
      "cell_type": "code",
      "metadata": {
        "id": "3tQnjWvEE198"
      },
      "source": [
        "z = y.mean()"
      ],
      "execution_count": 88,
      "outputs": []
    },
    {
      "cell_type": "code",
      "metadata": {
        "colab": {
          "base_uri": "https://localhost:8080/"
        },
        "id": "dYyyY8pyE2BL",
        "outputId": "0906590d-67b8-4114-98f8-e181488bd7aa"
      },
      "source": [
        "z"
      ],
      "execution_count": 90,
      "outputs": [
        {
          "output_type": "execute_result",
          "data": {
            "text/plain": [
              "tensor(1.8798, grad_fn=<MeanBackward0>)"
            ]
          },
          "metadata": {},
          "execution_count": 90
        }
      ]
    },
    {
      "cell_type": "code",
      "metadata": {
        "id": "60qpqMffE2J5"
      },
      "source": [
        "z.backward()"
      ],
      "execution_count": 91,
      "outputs": []
    },
    {
      "cell_type": "code",
      "metadata": {
        "colab": {
          "base_uri": "https://localhost:8080/"
        },
        "id": "Ae4Pq4IDE2Lr",
        "outputId": "540d1a0e-d707-4f8a-ba14-36f02964e2ef"
      },
      "source": [
        "x.grad"
      ],
      "execution_count": 92,
      "outputs": [
        {
          "output_type": "execute_result",
          "data": {
            "text/plain": [
              "tensor([[0.2500, 0.2500, 0.2500, 0.2500],\n",
              "        [0.2500, 0.2500, 0.2500, 0.2500],\n",
              "        [0.2500, 0.2500, 0.2500, 0.2500]])"
            ]
          },
          "metadata": {},
          "execution_count": 92
        }
      ]
    },
    {
      "cell_type": "code",
      "metadata": {
        "colab": {
          "base_uri": "https://localhost:8080/"
        },
        "id": "MzB3TnPsE2Nh",
        "outputId": "0d2e9123-4828-42d1-ae87-9d29a5654252"
      },
      "source": [
        "import torch\n",
        "# Is CUDA available?\n",
        "print (torch.cuda.is_available())"
      ],
      "execution_count": 2,
      "outputs": [
        {
          "output_type": "stream",
          "name": "stdout",
          "text": [
            "True\n"
          ]
        }
      ]
    },
    {
      "cell_type": "code",
      "metadata": {
        "colab": {
          "base_uri": "https://localhost:8080/"
        },
        "id": "iuMhpZgiE2RC",
        "outputId": "09be5057-de2d-44ef-f19f-7e33658b9887"
      },
      "source": [
        "\n",
        "# Set device\n",
        "device = torch.device(\"cuda\" if torch.cuda.is_available() else \"cpu\")\n",
        "print (device)"
      ],
      "execution_count": 3,
      "outputs": [
        {
          "output_type": "stream",
          "name": "stdout",
          "text": [
            "cuda\n"
          ]
        }
      ]
    },
    {
      "cell_type": "code",
      "metadata": {
        "id": "NkZoIQ1_E2SX"
      },
      "source": [
        ""
      ],
      "execution_count": null,
      "outputs": []
    },
    {
      "cell_type": "code",
      "metadata": {
        "id": "ZB3XLnM8E2UU"
      },
      "source": [
        ""
      ],
      "execution_count": null,
      "outputs": []
    },
    {
      "cell_type": "code",
      "metadata": {
        "id": "AabFbjoAE2V3"
      },
      "source": [
        ""
      ],
      "execution_count": null,
      "outputs": []
    },
    {
      "cell_type": "code",
      "metadata": {
        "id": "N21wSsrS44Bj"
      },
      "source": [
        ""
      ],
      "execution_count": null,
      "outputs": []
    },
    {
      "cell_type": "code",
      "metadata": {
        "id": "ntCKBfm344EL"
      },
      "source": [
        ""
      ],
      "execution_count": null,
      "outputs": []
    }
  ]
}